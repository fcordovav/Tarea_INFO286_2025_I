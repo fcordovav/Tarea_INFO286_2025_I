{
 "cells": [
  {
   "cell_type": "markdown",
   "id": "03f675fb",
   "metadata": {},
   "source": [
    "# Tarea INFO286: Minería de Procesos\n",
    "\n",
    "Integrantes: Felipe Córdova y Javier Reyes  \n",
    "Profesor: Juan Salazar  \n",
    "Fecha: 09/05/2025  \n"
   ]
  },
  {
   "cell_type": "markdown",
   "id": "7cdc5a35",
   "metadata": {},
   "source": [
    "## Resumen\n",
    "\n",
    "En este trabajo se analiza el log de eventos `traffic_fines`, el cual representa el proceso de gestión de multas de tránsito en Italia. Se utilizaron herramientas del ecosistema `bupaR` en R para explorar el log, visualizar el proceso, responder preguntas específicas y proponer mejoras. Se identificaron cuellos de botella, variantes comunes y actividades críticas. Entre los principales hallazgos destacan demoras considerables en ciertas etapas y la existencia de múltiples variantes del proceso. Se proponen dos mejoras orientadas a reducir tiempos muertos y simplificar el flujo de actividades.\n"
   ]
  },
  {
   "cell_type": "markdown",
   "id": "1b2dccb3",
   "metadata": {},
   "source": [
    "### Instalación y carga de paquetes"
   ]
  },
  {
   "cell_type": "code",
   "execution_count": 44,
   "id": "9669b2df",
   "metadata": {
    "vscode": {
     "languageId": "r"
    }
   },
   "outputs": [],
   "source": [
    "# Instalar los paquetes solo la primera vez:\n",
    "# install.packages(\"bupaR\")\n",
    "# install.packages(\"eventdataR\")  # contiene el log traffic_fines\n",
    "# install.packages(\"edeaR\")       # análisis exploratorio\n",
    "# install.packages(\"processmapR\") # mapas de proceso\n",
    "# install.packages(\"processmonitR\") # monitoreo\n",
    "# install.packages(\"DiagrammeR\")\n",
    "\n",
    "# Cargar los paquetes:\n",
    "library(bupaR)\n",
    "library(eventdataR)\n",
    "library(edeaR)\n",
    "library(processmapR)\n",
    "library(processmonitR)\n",
    "library(ggplot2)\n",
    "library(DiagrammeR)"
   ]
  },
  {
   "cell_type": "markdown",
   "id": "368b36d9",
   "metadata": {},
   "source": [
    "### Cargar el log *traffic_fines*"
   ]
  },
  {
   "cell_type": "code",
   "execution_count": 45,
   "id": "5432c181",
   "metadata": {
    "vscode": {
     "languageId": "r"
    }
   },
   "outputs": [],
   "source": [
    "data(\"traffic_fines\")"
   ]
  },
  {
   "cell_type": "markdown",
   "id": "d2ca17fc",
   "metadata": {},
   "source": [
    "## 1. Descripción general del log\n",
    "\n",
    "En esta sección se realiza una revisión exploratoria de los datos del proceso, identificando aspectos clave como la cantidad de casos, el número de actividades distintas, las ventanas de tiempo involucradas, la duración de los casos, la cantidad y distribución de variantes, así como los participantes que intervienen en el proceso.\n",
    "\n",
    "Dado que el log ya ha sido cargado, procedemos a presentar un resumen general de los datos."
   ]
  },
  {
   "cell_type": "code",
   "execution_count": 46,
   "id": "abbf7c69",
   "metadata": {
    "vscode": {
     "languageId": "r"
    }
   },
   "outputs": [
    {
     "name": "stdout",
     "output_type": "stream",
     "text": [
      "Number of events:  34724\n",
      "Number of cases:  10000\n",
      "Number of traces:  44\n",
      "Number of distinct activities:  11\n",
      "Average trace length:  3.4724\n",
      "\n",
      "Start eventlog:  2006-06-17\n",
      "End eventlog:  2012-03-26\n",
      "\n"
     ]
    },
    {
     "data": {
      "text/plain": [
       "   case_id                                activity        lifecycle    \n",
       " Length:34724       Create Fine               :10000   complete:34724  \n",
       " Class :character   Send Fine                 : 6570                   \n",
       " Mode  :character   Payment                   : 4910                   \n",
       "                    Add penalty               : 4635                   \n",
       "                    Insert Fine Notification  : 4635                   \n",
       "                    Send for Credit Collection: 3387                   \n",
       "                    (Other)                   :  587                   \n",
       "    resource       timestamp                         amount         \n",
       " 559    : 1278   Min.   :2006-06-17 00:00:00.00   Length:34724      \n",
       " 557    : 1181   1st Qu.:2007-07-19 00:00:00.00   Class :character  \n",
       " 541    : 1119   Median :2007-10-29 00:00:00.00   Mode  :character  \n",
       " 561    : 1002   Mean   :2007-12-06 15:34:51.32                     \n",
       " 558    :  948   3rd Qu.:2008-02-29 00:00:00.00                     \n",
       " (Other): 4491   Max.   :2012-03-26 00:00:00.00                     \n",
       " NA's   :24705                                                      \n",
       "    article       dismissal           expense            lastsent        \n",
       " Min.   :  7.0   Length:34724       Length:34724       Length:34724      \n",
       " 1st Qu.:157.0   Class :character   Class :character   Class :character  \n",
       " Median :157.0   Mode  :character   Mode  :character   Mode  :character  \n",
       " Mean   :131.8                                                           \n",
       " 3rd Qu.:157.0                                                           \n",
       " Max.   :158.0                                                           \n",
       " NA's   :24724                                                           \n",
       "   matricola     notificationtype   paymentamount        points     \n",
       " Min.   :0       Length:34724       Min.   :  60.0   Min.   :0.000  \n",
       " 1st Qu.:0       Class :character   1st Qu.: 360.0   1st Qu.:0.000  \n",
       " Median :0       Mode  :character   Median : 360.0   Median :0.000  \n",
       " Mean   :0                          Mean   : 451.6   Mean   :0.003  \n",
       " 3rd Qu.:0                          3rd Qu.: 380.0   3rd Qu.:0.000  \n",
       " Max.   :0                          Max.   :4926.0   Max.   :2.000  \n",
       " NA's   :34705                      NA's   :29814    NA's   :24724  \n",
       " totalpaymentamount vehicleclass       activity_instance_id     .order     \n",
       " Length:34724       Length:34724       Length:34724         Min.   :    1  \n",
       " Class :character   Class :character   Class :character     1st Qu.: 8682  \n",
       " Mode  :character   Mode  :character   Mode  :character     Median :17363  \n",
       "                                                            Mean   :17363  \n",
       "                                                            3rd Qu.:26043  \n",
       "                                                            Max.   :34724  \n",
       "                                                                           "
      ]
     },
     "metadata": {},
     "output_type": "display_data"
    }
   ],
   "source": [
    "# Resumen general del log\n",
    "summary(traffic_fines)"
   ]
  },
  {
   "cell_type": "markdown",
   "id": "d7e3d7a2",
   "metadata": {},
   "source": [
    "Algunos de los datos solicitados pueden observarse en el resumen general obtenido previamente mediante la función `summary(data)` en R. Sin embargo, a continuación se presentan algunos comandos específicos de la librería bupaR que permiten visualizar esta información de manera más clara y detallada."
   ]
  },
  {
   "cell_type": "markdown",
   "id": "9f80b37e",
   "metadata": {},
   "source": [
    "### 1.1 Número de casos"
   ]
  },
  {
   "cell_type": "code",
   "execution_count": 47,
   "id": "4a91c421",
   "metadata": {
    "vscode": {
     "languageId": "r"
    }
   },
   "outputs": [
    {
     "data": {
      "text/html": [
       "10000"
      ],
      "text/latex": [
       "10000"
      ],
      "text/markdown": [
       "10000"
      ],
      "text/plain": [
       "[1] 10000"
      ]
     },
     "metadata": {},
     "output_type": "display_data"
    }
   ],
   "source": [
    "n_cases(traffic_fines)"
   ]
  },
  {
   "cell_type": "markdown",
   "id": "421f9bf3",
   "metadata": {},
   "source": [
    "### 1.2 Número de actividades distintas"
   ]
  },
  {
   "cell_type": "code",
   "execution_count": 48,
   "id": "6ea702b3",
   "metadata": {
    "vscode": {
     "languageId": "r"
    }
   },
   "outputs": [
    {
     "data": {
      "text/html": [
       "11"
      ],
      "text/latex": [
       "11"
      ],
      "text/markdown": [
       "11"
      ],
      "text/plain": [
       "[1] 11"
      ]
     },
     "metadata": {},
     "output_type": "display_data"
    }
   ],
   "source": [
    "n_activities(traffic_fines)"
   ]
  },
  {
   "cell_type": "code",
   "execution_count": 49,
   "id": "1f70c821",
   "metadata": {
    "vscode": {
     "languageId": "r"
    }
   },
   "outputs": [
    {
     "data": {
      "text/html": [
       "<table class=\"dataframe\">\n",
       "<caption>A tibble: 11 × 3</caption>\n",
       "<thead>\n",
       "\t<tr><th scope=col>activity</th><th scope=col>absolute_frequency</th><th scope=col>relative_frequency</th></tr>\n",
       "\t<tr><th scope=col>&lt;fct&gt;</th><th scope=col>&lt;int&gt;</th><th scope=col>&lt;dbl&gt;</th></tr>\n",
       "</thead>\n",
       "<tbody>\n",
       "\t<tr><td>Create Fine                          </td><td>10000</td><td>0.287985255</td></tr>\n",
       "\t<tr><td>Send Fine                            </td><td> 6570</td><td>0.189206313</td></tr>\n",
       "\t<tr><td>Payment                              </td><td> 4910</td><td>0.141400760</td></tr>\n",
       "\t<tr><td>Add penalty                          </td><td> 4635</td><td>0.133481166</td></tr>\n",
       "\t<tr><td>Insert Fine Notification             </td><td> 4635</td><td>0.133481166</td></tr>\n",
       "\t<tr><td>Send for Credit Collection           </td><td> 3387</td><td>0.097540606</td></tr>\n",
       "\t<tr><td>Insert Date Appeal to Prefecture     </td><td>  232</td><td>0.006681258</td></tr>\n",
       "\t<tr><td>Send Appeal to Prefecture            </td><td>  227</td><td>0.006537265</td></tr>\n",
       "\t<tr><td>Receive Result Appeal from Prefecture</td><td>   55</td><td>0.001583919</td></tr>\n",
       "\t<tr><td>Notify Result Appeal to Offender     </td><td>   54</td><td>0.001555120</td></tr>\n",
       "\t<tr><td>Appeal to Judge                      </td><td>   19</td><td>0.000547172</td></tr>\n",
       "</tbody>\n",
       "</table>\n"
      ],
      "text/latex": [
       "A tibble: 11 × 3\n",
       "\\begin{tabular}{lll}\n",
       " activity & absolute\\_frequency & relative\\_frequency\\\\\n",
       " <fct> & <int> & <dbl>\\\\\n",
       "\\hline\n",
       "\t Create Fine                           & 10000 & 0.287985255\\\\\n",
       "\t Send Fine                             &  6570 & 0.189206313\\\\\n",
       "\t Payment                               &  4910 & 0.141400760\\\\\n",
       "\t Add penalty                           &  4635 & 0.133481166\\\\\n",
       "\t Insert Fine Notification              &  4635 & 0.133481166\\\\\n",
       "\t Send for Credit Collection            &  3387 & 0.097540606\\\\\n",
       "\t Insert Date Appeal to Prefecture      &   232 & 0.006681258\\\\\n",
       "\t Send Appeal to Prefecture             &   227 & 0.006537265\\\\\n",
       "\t Receive Result Appeal from Prefecture &    55 & 0.001583919\\\\\n",
       "\t Notify Result Appeal to Offender      &    54 & 0.001555120\\\\\n",
       "\t Appeal to Judge                       &    19 & 0.000547172\\\\\n",
       "\\end{tabular}\n"
      ],
      "text/markdown": [
       "\n",
       "A tibble: 11 × 3\n",
       "\n",
       "| activity &lt;fct&gt; | absolute_frequency &lt;int&gt; | relative_frequency &lt;dbl&gt; |\n",
       "|---|---|---|\n",
       "| Create Fine                           | 10000 | 0.287985255 |\n",
       "| Send Fine                             |  6570 | 0.189206313 |\n",
       "| Payment                               |  4910 | 0.141400760 |\n",
       "| Add penalty                           |  4635 | 0.133481166 |\n",
       "| Insert Fine Notification              |  4635 | 0.133481166 |\n",
       "| Send for Credit Collection            |  3387 | 0.097540606 |\n",
       "| Insert Date Appeal to Prefecture      |   232 | 0.006681258 |\n",
       "| Send Appeal to Prefecture             |   227 | 0.006537265 |\n",
       "| Receive Result Appeal from Prefecture |    55 | 0.001583919 |\n",
       "| Notify Result Appeal to Offender      |    54 | 0.001555120 |\n",
       "| Appeal to Judge                       |    19 | 0.000547172 |\n",
       "\n"
      ],
      "text/plain": [
       "   activity                              absolute_frequency relative_frequency\n",
       "1  Create Fine                           10000              0.287985255       \n",
       "2  Send Fine                              6570              0.189206313       \n",
       "3  Payment                                4910              0.141400760       \n",
       "4  Add penalty                            4635              0.133481166       \n",
       "5  Insert Fine Notification               4635              0.133481166       \n",
       "6  Send for Credit Collection             3387              0.097540606       \n",
       "7  Insert Date Appeal to Prefecture        232              0.006681258       \n",
       "8  Send Appeal to Prefecture               227              0.006537265       \n",
       "9  Receive Result Appeal from Prefecture    55              0.001583919       \n",
       "10 Notify Result Appeal to Offender         54              0.001555120       \n",
       "11 Appeal to Judge                          19              0.000547172       "
      ]
     },
     "metadata": {},
     "output_type": "display_data"
    }
   ],
   "source": [
    "# Ver el nombre de las 11 actividades\n",
    "activities(traffic_fines)"
   ]
  },
  {
   "cell_type": "markdown",
   "id": "c90f47c4",
   "metadata": {},
   "source": [
    "### 1.3 Descripción detallada de las actividades en `traffic_fines` (Según ChatGPT)\n",
    "\n",
    "1. **Create Fine**  \n",
    "   Registro inicial de la infracción en el sistema. Marca el inicio del expediente sancionador, incluyendo datos del vehículo, infracción y autoridad competente.\n",
    "\n",
    "2. **Send Fine**  \n",
    "   Envío de la multa al infractor, generalmente por correo certificado. Es el paso formal para informar al ciudadano sobre la infracción detectada.\n",
    "\n",
    "3. **Insert Fine Notification**  \n",
    "   Confirmación de la recepción formal de la notificación por parte del infractor. A partir de este punto comienzan a contar los plazos legales para pagar o apelar.\n",
    "\n",
    "4. **Add Penalty**  \n",
    "   Aplicación de un recargo económico debido al impago dentro del plazo establecido (normalmente 60 días). Se considera que el infractor ha incurrido en morosidad.\n",
    "\n",
    "5. **Payment**  \n",
    "   Registro de un pago, total o parcial, realizado por el infractor. Puede producirse en diferentes etapas del proceso, incluso después de penalizaciones.\n",
    "\n",
    "6. **Send for Credit Collection**  \n",
    "   Transferencia del expediente a una agencia de recobro (ej. *Agenzia delle Entrate-Riscossione*) si no se ha pagado tras un periodo prolongado (por ejemplo, 180 días).\n",
    "\n",
    "7. **Insert Date Appeal to Prefecture**  \n",
    "   Registro de la fecha en que el infractor manifiesta su intención de apelar la multa ante el Prefetto. Esta acción debe realizarse dentro de los 60 días posteriores a la notificación.\n",
    "\n",
    "8. **Send Appeal to Prefecture**  \n",
    "   Envío formal del recurso de apelación a la Prefectura, junto con documentación y argumentos del infractor.\n",
    "\n",
    "9. **Receive Result Appeal from Prefecture**  \n",
    "   Recepción del veredicto emitido por el Prefetto sobre la apelación (aceptación o rechazo de la misma).\n",
    "\n",
    "10. **Notify Result Appeal to Offender**  \n",
    "   Comunicación del resultado de la apelación al infractor. Si fue rechazada, el proceso continúa con el cobro de la multa.\n",
    "\n",
    "11. **Appeal to Judge**  \n",
    "   Presentación de una apelación ante el *Giudice di Pace* (juez de paz), como vía judicial alternativa o posterior a la Prefectura."
   ]
  },
  {
   "cell_type": "markdown",
   "id": "8f5f0f0b",
   "metadata": {},
   "source": [
    "### 1.4 Ventana de tiempo que abarca"
   ]
  },
  {
   "cell_type": "code",
   "execution_count": 50,
   "id": "525880b8",
   "metadata": {
    "vscode": {
     "languageId": "r"
    }
   },
   "outputs": [
    {
     "data": {
      "text/plain": [
       "[1] \"2006-06-17 UTC\""
      ]
     },
     "metadata": {},
     "output_type": "display_data"
    },
    {
     "data": {
      "text/plain": [
       "[1] \"2012-03-26 UTC\""
      ]
     },
     "metadata": {},
     "output_type": "display_data"
    }
   ],
   "source": [
    "# Ventana de tiempo que abarca\n",
    "start_time <- min(traffic_fines$timestamp)\n",
    "end_time <- max(traffic_fines$timestamp)\n",
    "start_time\n",
    "end_time"
   ]
  },
  {
   "cell_type": "markdown",
   "id": "9bd2b505",
   "metadata": {},
   "source": [
    "El log abarca un período de casi seis años, comprendido entre el 17 de junio de 2006 y el 26 de marzo de 2012."
   ]
  },
  {
   "cell_type": "markdown",
   "id": "5894d151",
   "metadata": {},
   "source": [
    "### 1.5 Duración de los casos (tiempo total de ejecución de los casos)"
   ]
  },
  {
   "cell_type": "code",
   "execution_count": 51,
   "id": "e2bc0d04",
   "metadata": {
    "vscode": {
     "languageId": "r"
    }
   },
   "outputs": [
    {
     "data": {
      "text/html": [
       "<table class=\"dataframe\">\n",
       "<caption>A log_metric: 1 × 8</caption>\n",
       "<thead>\n",
       "\t<tr><th scope=col>min</th><th scope=col>q1</th><th scope=col>median</th><th scope=col>mean</th><th scope=col>q3</th><th scope=col>max</th><th scope=col>st_dev</th><th scope=col>iqr</th></tr>\n",
       "\t<tr><th scope=col>&lt;drtn&gt;</th><th scope=col>&lt;drtn&gt;</th><th scope=col>&lt;drtn&gt;</th><th scope=col>&lt;drtn&gt;</th><th scope=col>&lt;drtn&gt;</th><th scope=col>&lt;drtn&gt;</th><th scope=col>&lt;dbl&gt;</th><th scope=col>&lt;drtn&gt;</th></tr>\n",
       "</thead>\n",
       "<tbody>\n",
       "\t<tr><td>0 days</td><td>7 days</td><td>125 days</td><td>296.1351 days</td><td>596 days</td><td>1956 days</td><td>313.2794</td><td>589 days</td></tr>\n",
       "</tbody>\n",
       "</table>\n"
      ],
      "text/latex": [
       "A log\\_metric: 1 × 8\n",
       "\\begin{tabular}{llllllll}\n",
       " min & q1 & median & mean & q3 & max & st\\_dev & iqr\\\\\n",
       " <drtn> & <drtn> & <drtn> & <drtn> & <drtn> & <drtn> & <dbl> & <drtn>\\\\\n",
       "\\hline\n",
       "\t 0 days & 7 days & 125 days & 296.1351 days & 596 days & 1956 days & 313.2794 & 589 days\\\\\n",
       "\\end{tabular}\n"
      ],
      "text/markdown": [
       "\n",
       "A log_metric: 1 × 8\n",
       "\n",
       "| min &lt;drtn&gt; | q1 &lt;drtn&gt; | median &lt;drtn&gt; | mean &lt;drtn&gt; | q3 &lt;drtn&gt; | max &lt;drtn&gt; | st_dev &lt;dbl&gt; | iqr &lt;drtn&gt; |\n",
       "|---|---|---|---|---|---|---|---|\n",
       "| 0 days | 7 days | 125 days | 296.1351 days | 596 days | 1956 days | 313.2794 | 589 days |\n",
       "\n"
      ],
      "text/plain": [
       "    min    q1     median   mean          q3       max       st_dev   iqr     \n",
       "25% 0 days 7 days 125 days 296.1351 days 596 days 1956 days 313.2794 589 days"
      ]
     },
     "metadata": {},
     "output_type": "display_data"
    }
   ],
   "source": [
    "throughput_time(traffic_fines, units=\"days\")"
   ]
  },
  {
   "cell_type": "markdown",
   "id": "131dcbc9",
   "metadata": {},
   "source": [
    "### 1.6 Distribución de variantes al 80% de los casos"
   ]
  },
  {
   "cell_type": "code",
   "execution_count": 52,
   "id": "cc131114",
   "metadata": {
    "vscode": {
     "languageId": "r"
    }
   },
   "outputs": [
    {
     "data": {
      "image/png": "[encoded data removed]",
      "text/plain": [
       "plot without title"
      ]
     },
     "metadata": {
      "image/png": {
       "height": 420,
       "width": 420
      }
     },
     "output_type": "display_data"
    }
   ],
   "source": [
    "trace_explorer(traffic_fines, coverage = 0.8)"
   ]
  },
  {
   "cell_type": "markdown",
   "id": "66df7f91",
   "metadata": {},
   "source": [
    "### 1.7 Personas que participan en el proceso"
   ]
  },
  {
   "cell_type": "code",
   "execution_count": 53,
   "id": "a2b75b6a",
   "metadata": {
    "vscode": {
     "languageId": "r"
    }
   },
   "outputs": [
    {
     "data": {
      "text/html": [
       "<table class=\"dataframe\">\n",
       "<caption>A resource_metric: 16 × 4</caption>\n",
       "<thead>\n",
       "\t<tr><th scope=col>resource</th><th scope=col>absolute</th><th scope=col>relative</th><th scope=col>percentage</th></tr>\n",
       "\t<tr><th scope=col>&lt;fct&gt;</th><th scope=col>&lt;int&gt;</th><th scope=col>&lt;dbl&gt;</th><th scope=col>&lt;dbl&gt;</th></tr>\n",
       "</thead>\n",
       "<tbody>\n",
       "\t<tr><td>NA </td><td>24705</td><td>0.7114675729</td><td>71.14675729</td></tr>\n",
       "\t<tr><td>559</td><td> 1278</td><td>0.0368045156</td><td> 3.68045156</td></tr>\n",
       "\t<tr><td>557</td><td> 1181</td><td>0.0340110586</td><td> 3.40110586</td></tr>\n",
       "\t<tr><td>541</td><td> 1119</td><td>0.0322255501</td><td> 3.22255501</td></tr>\n",
       "\t<tr><td>561</td><td> 1002</td><td>0.0288561226</td><td> 2.88561226</td></tr>\n",
       "\t<tr><td>558</td><td>  948</td><td>0.0273010022</td><td> 2.73010022</td></tr>\n",
       "\t<tr><td>537</td><td>  946</td><td>0.0272434051</td><td> 2.72434051</td></tr>\n",
       "\t<tr><td>564</td><td>  602</td><td>0.0173367124</td><td> 1.73367124</td></tr>\n",
       "\t<tr><td>556</td><td>  600</td><td>0.0172791153</td><td> 1.72791153</td></tr>\n",
       "\t<tr><td>550</td><td>  574</td><td>0.0165303536</td><td> 1.65303536</td></tr>\n",
       "\t<tr><td>560</td><td>  537</td><td>0.0154648082</td><td> 1.54648082</td></tr>\n",
       "\t<tr><td>562</td><td>  536</td><td>0.0154360097</td><td> 1.54360097</td></tr>\n",
       "\t<tr><td>563</td><td>  535</td><td>0.0154072112</td><td> 1.54072112</td></tr>\n",
       "\t<tr><td>538</td><td>  122</td><td>0.0035134201</td><td> 0.35134201</td></tr>\n",
       "\t<tr><td>536</td><td>   20</td><td>0.0005759705</td><td> 0.05759705</td></tr>\n",
       "\t<tr><td>0  </td><td>   19</td><td>0.0005471720</td><td> 0.05471720</td></tr>\n",
       "</tbody>\n",
       "</table>\n"
      ],
      "text/latex": [
       "A resource\\_metric: 16 × 4\n",
       "\\begin{tabular}{llll}\n",
       " resource & absolute & relative & percentage\\\\\n",
       " <fct> & <int> & <dbl> & <dbl>\\\\\n",
       "\\hline\n",
       "\t NA  & 24705 & 0.7114675729 & 71.14675729\\\\\n",
       "\t 559 &  1278 & 0.0368045156 &  3.68045156\\\\\n",
       "\t 557 &  1181 & 0.0340110586 &  3.40110586\\\\\n",
       "\t 541 &  1119 & 0.0322255501 &  3.22255501\\\\\n",
       "\t 561 &  1002 & 0.0288561226 &  2.88561226\\\\\n",
       "\t 558 &   948 & 0.0273010022 &  2.73010022\\\\\n",
       "\t 537 &   946 & 0.0272434051 &  2.72434051\\\\\n",
       "\t 564 &   602 & 0.0173367124 &  1.73367124\\\\\n",
       "\t 556 &   600 & 0.0172791153 &  1.72791153\\\\\n",
       "\t 550 &   574 & 0.0165303536 &  1.65303536\\\\\n",
       "\t 560 &   537 & 0.0154648082 &  1.54648082\\\\\n",
       "\t 562 &   536 & 0.0154360097 &  1.54360097\\\\\n",
       "\t 563 &   535 & 0.0154072112 &  1.54072112\\\\\n",
       "\t 538 &   122 & 0.0035134201 &  0.35134201\\\\\n",
       "\t 536 &    20 & 0.0005759705 &  0.05759705\\\\\n",
       "\t 0   &    19 & 0.0005471720 &  0.05471720\\\\\n",
       "\\end{tabular}\n"
      ],
      "text/markdown": [
       "\n",
       "A resource_metric: 16 × 4\n",
       "\n",
       "| resource &lt;fct&gt; | absolute &lt;int&gt; | relative &lt;dbl&gt; | percentage &lt;dbl&gt; |\n",
       "|---|---|---|---|\n",
       "| NA  | 24705 | 0.7114675729 | 71.14675729 |\n",
       "| 559 |  1278 | 0.0368045156 |  3.68045156 |\n",
       "| 557 |  1181 | 0.0340110586 |  3.40110586 |\n",
       "| 541 |  1119 | 0.0322255501 |  3.22255501 |\n",
       "| 561 |  1002 | 0.0288561226 |  2.88561226 |\n",
       "| 558 |   948 | 0.0273010022 |  2.73010022 |\n",
       "| 537 |   946 | 0.0272434051 |  2.72434051 |\n",
       "| 564 |   602 | 0.0173367124 |  1.73367124 |\n",
       "| 556 |   600 | 0.0172791153 |  1.72791153 |\n",
       "| 550 |   574 | 0.0165303536 |  1.65303536 |\n",
       "| 560 |   537 | 0.0154648082 |  1.54648082 |\n",
       "| 562 |   536 | 0.0154360097 |  1.54360097 |\n",
       "| 563 |   535 | 0.0154072112 |  1.54072112 |\n",
       "| 538 |   122 | 0.0035134201 |  0.35134201 |\n",
       "| 536 |    20 | 0.0005759705 |  0.05759705 |\n",
       "| 0   |    19 | 0.0005471720 |  0.05471720 |\n",
       "\n"
      ],
      "text/plain": [
       "   resource absolute relative     percentage \n",
       "1  NA       24705    0.7114675729 71.14675729\n",
       "2  559       1278    0.0368045156  3.68045156\n",
       "3  557       1181    0.0340110586  3.40110586\n",
       "4  541       1119    0.0322255501  3.22255501\n",
       "5  561       1002    0.0288561226  2.88561226\n",
       "6  558        948    0.0273010022  2.73010022\n",
       "7  537        946    0.0272434051  2.72434051\n",
       "8  564        602    0.0173367124  1.73367124\n",
       "9  556        600    0.0172791153  1.72791153\n",
       "10 550        574    0.0165303536  1.65303536\n",
       "11 560        537    0.0154648082  1.54648082\n",
       "12 562        536    0.0154360097  1.54360097\n",
       "13 563        535    0.0154072112  1.54072112\n",
       "14 538        122    0.0035134201  0.35134201\n",
       "15 536         20    0.0005759705  0.05759705\n",
       "16 0           19    0.0005471720  0.05471720"
      ]
     },
     "metadata": {},
     "output_type": "display_data"
    }
   ],
   "source": [
    "resource_frequency(traffic_fines, level = \"resource\") %>%\n",
    "  mutate(percentage = absolute / sum(absolute) * 100)\n"
   ]
  },
  {
   "cell_type": "markdown",
   "id": "c1db4823",
   "metadata": {},
   "source": [
    "Antes de completar nuestra tabla con una descripción general del log, revisamos los nombres de todas las columnas para identificar la información disponible y poder deducir cual información de utilidad podría faltar."
   ]
  },
  {
   "cell_type": "code",
   "execution_count": 54,
   "id": "eb105a8e",
   "metadata": {
    "vscode": {
     "languageId": "r"
    }
   },
   "outputs": [
    {
     "data": {
      "text/html": [
       "<style>\n",
       ".list-inline {list-style: none; margin:0; padding: 0}\n",
       ".list-inline>li {display: inline-block}\n",
       ".list-inline>li:not(:last-child)::after {content: \"\\00b7\"; padding: 0 .5ex}\n",
       "</style>\n",
       "<ol class=list-inline><li>'case_id'</li><li>'activity'</li><li>'lifecycle'</li><li>'resource'</li><li>'timestamp'</li><li>'amount'</li><li>'article'</li><li>'dismissal'</li><li>'expense'</li><li>'lastsent'</li><li>'matricola'</li><li>'notificationtype'</li><li>'paymentamount'</li><li>'points'</li><li>'totalpaymentamount'</li><li>'vehicleclass'</li><li>'activity_instance_id'</li><li>'.order'</li></ol>\n"
      ],
      "text/latex": [
       "\\begin{enumerate*}\n",
       "\\item 'case\\_id'\n",
       "\\item 'activity'\n",
       "\\item 'lifecycle'\n",
       "\\item 'resource'\n",
       "\\item 'timestamp'\n",
       "\\item 'amount'\n",
       "\\item 'article'\n",
       "\\item 'dismissal'\n",
       "\\item 'expense'\n",
       "\\item 'lastsent'\n",
       "\\item 'matricola'\n",
       "\\item 'notificationtype'\n",
       "\\item 'paymentamount'\n",
       "\\item 'points'\n",
       "\\item 'totalpaymentamount'\n",
       "\\item 'vehicleclass'\n",
       "\\item 'activity\\_instance\\_id'\n",
       "\\item '.order'\n",
       "\\end{enumerate*}\n"
      ],
      "text/markdown": [
       "1. 'case_id'\n",
       "2. 'activity'\n",
       "3. 'lifecycle'\n",
       "4. 'resource'\n",
       "5. 'timestamp'\n",
       "6. 'amount'\n",
       "7. 'article'\n",
       "8. 'dismissal'\n",
       "9. 'expense'\n",
       "10. 'lastsent'\n",
       "11. 'matricola'\n",
       "12. 'notificationtype'\n",
       "13. 'paymentamount'\n",
       "14. 'points'\n",
       "15. 'totalpaymentamount'\n",
       "16. 'vehicleclass'\n",
       "17. 'activity_instance_id'\n",
       "18. '.order'\n",
       "\n",
       "\n"
      ],
      "text/plain": [
       " [1] \"case_id\"              \"activity\"             \"lifecycle\"           \n",
       " [4] \"resource\"             \"timestamp\"            \"amount\"              \n",
       " [7] \"article\"              \"dismissal\"            \"expense\"             \n",
       "[10] \"lastsent\"             \"matricola\"            \"notificationtype\"    \n",
       "[13] \"paymentamount\"        \"points\"               \"totalpaymentamount\"  \n",
       "[16] \"vehicleclass\"         \"activity_instance_id\" \".order\"              "
      ]
     },
     "metadata": {},
     "output_type": "display_data"
    }
   ],
   "source": [
    "# Columnas en el log\n",
    "colnames(traffic_fines)"
   ]
  },
  {
   "cell_type": "markdown",
   "id": "a8ac1a4c",
   "metadata": {},
   "source": [
    "### 1.8 Descripción General "
   ]
  },
  {
   "cell_type": "markdown",
   "id": "e19f7c6c",
   "metadata": {},
   "source": [
    "| Información | Cantidad | \n",
    "| :--| :-- |\n",
    "| Número de casos |  10000 casos |\n",
    "| Número de actividades únicas | 11 actividades |\n",
    "| Ventana de tiempo | [2006-06-17, 2012-03-26] |\n",
    "| Duración de los casos | En promedio 296.1351 días |\n",
    "| Cantidad de variantes | 44 variantes (traces) |\n",
    "| Distribución de variantes | A pesar de que el log contiene 44 variantes distintas, solo 3 de ellas concentran más del 85% de los casos. La variante más frecuente representa por sí sola el 34.28% de los casos, seguida de dos variantes con 32.73% y 18.9%, respectivamente. Esto indica que, aunque hay una diversidad considerable de secuencias, la mayoría de los casos sigue un conjunto muy limitado de rutas de proceso. |\n",
    "| Personas / Roles que participan | Se identifican los siguientes id: 561 / 537 / 550 / 541 / 557 / 558 / 559 / 0 / 536 / 560 / 562 / 563 / 564 / 556 / 538. Pero, 24705 eventos o actividades no tienen una persona específicamente asignada (persona no registrada NA) | \n",
    "| Con qué información se cuenta | Los procesos empiezan con **Create Fine** y terminan con: **Payment**, **Send for Credit Collection** y **Send Fine**. Pueden ser finalizados por diferentes roles según el resultado: **Payment** implica resolución por parte del ciudadano, mientras que **Send for Credit Collection** y **Send Fine** corresponden a acciones administrativas posteriores por parte de la autoridad. |\n",
    "| Con qué información no se cuenta | Faltan datos sobre la ubicación de la infracción, que permitirían análisis geográficos del proceso. También se echa de menos información del conductor y del tipo específico de infracción. Además, no se incluye el estado final del caso, lo que dificultaría evaluar su resolución completa. |"
   ]
  },
  {
   "cell_type": "markdown",
   "id": "a080bf43",
   "metadata": {},
   "source": [
    "## 2. Análisis de diagrama del proceso\n",
    "\n",
    "En esta sección se analiza el diagrama del proceso con el fin de comprender el comportamiento general del flujo de trabajo. Se identifican las variantes más frecuentes, los puntos del proceso donde se concentran las principales demoras, y se determinan aquellas variantes que inician con la actividad `Create Fine` y concluyen correctamente con la actividad `Payment`, lo que indica un cierre exitoso del caso. Este análisis permite detectar patrones, cuellos de botella y evaluar la eficiencia del proceso."
   ]
  },
  {
   "cell_type": "markdown",
   "id": "65e1ccde",
   "metadata": {},
   "source": [
    "### 2.1 Diagrama de procesos\n",
    "\n",
    "Para crear el diagrama de procesos, debido a algunos inconvenientes técnicos, no fue posible visualizar el diagrama utilizando únicamente el comando `process_map()`. Aunque la ejecución era correcta, el resultado no se mostraba en la consola de Jupyter Notebook. Por lo tanto, se utilizó la librería `DiagrammeR` (cargada al inicio) junto con un widget HTML para poder visualizar el diagrama en el navegador. Una vez hecho esto, se procedió a tomar una captura de pantalla y guardar el diagrama bajo el nombre `diagrama_proceso.png` en la carpeta **imagenes**. Además, se creó un archivo `.gitignore` para evitar que se suban las carpetas generadas durante la creación del gráfico y del archivo HTML. Se deja comentado el código utilizado para evidencia."
   ]
  },
  {
   "cell_type": "code",
   "execution_count": 55,
   "id": "4e0126a2",
   "metadata": {
    "vscode": {
     "languageId": "r"
    }
   },
   "outputs": [],
   "source": [
    "# Diagrama de procesos clásico\n",
    "# graph <- process_map(traffic_fines)\n",
    "\n",
    "# Guardar como HTML\n",
    "# htmlwidgets::saveWidget(graph, \"proceso_traffic_fines.html\")"
   ]
  },
  {
   "cell_type": "markdown",
   "id": "79549da4",
   "metadata": {},
   "source": [
    "A continuación se presenta la imagen.  \n",
    "\n",
    "<img src=\"imagenes/diagrama_proceso.png\" alt=\"Diagrama del proceso\"/>\n"
   ]
  },
  {
   "cell_type": "markdown",
   "id": "157d993e",
   "metadata": {},
   "source": [
    "Como se puede observar en la imagen, así como en el gráfico presentado en la Sección 1 sobre la distribución de variantes que abarcan el 80% del total de casos, las principales variantes del proceso corresponden a aquellas que presentan un color más intenso y flechas de mayor grosor. Tal como se explicó en clases, esto indica una mayor frecuencia de ocurrencia. A medida que disminuye la intensidad del color, también lo hace la frecuencia relativa de la variante.  "
   ]
  },
  {
   "cell_type": "markdown",
   "id": "b8bc4798",
   "metadata": {},
   "source": [
    "### 2.2 Variantes principales\n",
    "\n",
    "Entre las variantes más representativas del proceso, se identifican las siguientes secuencias:\n",
    "\n",
    "1. **Start** → `Create Fine` → `Payment` → **END**  \n",
    "2. **Start** → `Create Fine` → `Send Fine` → `Insert Fine Notification` → `Add penalty` → `Send for Credit Collection` → **END**  \n",
    "3. **Start** → `Create Fine` → `Send Fine` → **END**  \n",
    "\n",
    "Vistas en la sección 1.6 al 80% y continuación de ejecuta el mismo comando al 90% para poder rescatar otra variante \"poco\" frecuente pero igual importante.  "
   ]
  },
  {
   "cell_type": "code",
   "execution_count": 56,
   "id": "6678027f",
   "metadata": {
    "vscode": {
     "languageId": "r"
    }
   },
   "outputs": [
    {
     "data": {
      "image/png": "[encoded data removed]",
      "text/plain": [
       "plot without title"
      ]
     },
     "metadata": {
      "image/png": {
       "height": 420,
       "width": 420
      }
     },
     "output_type": "display_data"
    }
   ],
   "source": [
    "trace_explorer(traffic_fines, coverage = 0.9)"
   ]
  },
  {
   "cell_type": "markdown",
   "id": "c6bea5d1",
   "metadata": {},
   "source": [
    "A partir de la imagen, se identifica una cuarta variante relevante, que representa el 7,58 % del total de los casos, y que también debe ser considerada en el análisis debido a su frecuencia significativa.  \n",
    "\n",
    "4. **Start** → `Create Fine` → `Send Fine` → `Insert Fine Notification` → `Add penalty` → `Payment` → **END**  \n",
    "\n",
    "Este gráfico, presentado anteriormente en la sección 1.6 y retomado aquí (al 90%), facilita la comprensión del diagrama de procesos. Al mostrar las variantes más frecuentes de manera simplificada, ayuda a interpretar un proceso que, debido a la gran cantidad de líneas y caminos posibles, puede resultar complejo de entender visualmente."
   ]
  },
  {
   "cell_type": "markdown",
   "id": "ff576fbd",
   "metadata": {},
   "source": [
    "### 2.3 Frecuencias\n",
    "\n",
    "se presenta este diagrama se complementa adecuadamente con el análisis realizado mediante el comando `activities(traffic_fines)`, presentado en la Sección 1, donde se identifican las once actividades que conforman el proceso. En dicho análisis también se observa la frecuencia absoluta de cada actividad, lo que permite comprender en mayor profundidad la estructura y dinámica del flujo de eventos.\n",
    "\n",
    "| Actividad | Frecuencia | \n",
    "| :--| :-- |\n",
    "| Create Fine |  10000 |\n",
    "| Send Fine | 6570 |\n",
    "| Payment | 4910 |\n",
    "| Add penalty | 4635 |\n",
    "| Insert Fine Notification | 4635 |\n",
    "| Send for Credict Collection | 3387 |\n",
    "| Insert Date Appeal to Prefecture | 232 |\n",
    "| Send Appeal to Prefecture | 227 |\n",
    "| Receive Result Appeal from Prefecture | 55 |\n",
    "| Notify Result Appeal to Offender | 54 |\n",
    "| Appeal to Judge | 19 |"
   ]
  },
  {
   "cell_type": "markdown",
   "id": "7da96601",
   "metadata": {},
   "source": [
    "### 2.4 Principales demoras\n",
    "\n",
    "Al igual que anteriormente, para visualizar el diagrama de demoras se utilizó DiagrammeR junto con visualización en HTML, debido a las limitaciones de Jupyter Notebook. La imagen fue capturada y guardada en la carpeta de **imagenes** como `diagrama_demoras.png`, y se deja el código utilizado como evidencia."
   ]
  },
  {
   "cell_type": "code",
   "execution_count": 57,
   "id": "723b3903",
   "metadata": {
    "vscode": {
     "languageId": "r"
    }
   },
   "outputs": [],
   "source": [
    "# Mapa con tiempo promedio entre actividades en dias\n",
    "# graph <- process_map(traffic_fines, performance(median, \"days\"))\n",
    "\n",
    "# Guardar como HTML\n",
    "# htmlwidgets::saveWidget(graph, \"proceso_traffic_fines_times.html\")"
   ]
  },
  {
   "cell_type": "markdown",
   "id": "20b17b5c",
   "metadata": {},
   "source": [
    "A continuación se presenta la imagen mencionada. En estas transiciones, destacadas en color amarillo, representan los mayores tiempos de espera entre actividades.\n",
    "\n",
    "<img src=\"imagenes/diagrama_demoras.png\" alt=\"Diagrama de demoras\">\n",
    "\n",
    "Como se observa en la imagen, se identifican cinco demoras principales en el proceso, las cuales se resumen en el gráfico de barras elaborado en R, a continuación:"
   ]
  },
  {
   "cell_type": "code",
   "execution_count": 58,
   "id": "4602db20",
   "metadata": {
    "vscode": {
     "languageId": "r"
    }
   },
   "outputs": [
    {
     "data": {
      "image/png": "[encoded data removed]",
      "text/plain": [
       "plot without title"
      ]
     },
     "metadata": {
      "image/png": {
       "height": 420,
       "width": 420
      }
     },
     "output_type": "display_data"
    }
   ],
   "source": [
    "# Crear un data frame con las demoras\n",
    "demoras <- data.frame(\n",
    "  transicion = c(\n",
    "    \"Notify Result Appeal to Offender → Send for Credit Collection\",\n",
    "    \"Receive Result Appeal from Prefecture → Send for Credit Collection\",\n",
    "    \"Add penalty → Send for Credit Collection\",\n",
    "    \"Send Appeal to Prefecture → Send for Credit Collection\",\n",
    "    \"Payment → Send for Credit Collection\"\n",
    "  ),\n",
    "  dias = c(775, 541, 474, 438, 422)\n",
    ")\n",
    "\n",
    "# Graficar con etiquetas y espacio adicional\n",
    "ggplot(demoras, aes(x = reorder(transicion, dias), y = dias)) +\n",
    "  geom_bar(stat = \"identity\", fill = \"#FDB813\") +\n",
    "  geom_text(aes(label = dias), hjust = -0.1, size = 4) +  # Etiquetas fuera de la barra\n",
    "  coord_flip() +\n",
    "  labs(title = \"Principales demoras\",\n",
    "       x = \"Transición\",\n",
    "       y = \"Duración (días)\") +\n",
    "  theme_minimal() +\n",
    "  scale_y_continuous(expand = expansion(mult = c(0, 0.16)))  # espacio extra a la derecha\n"
   ]
  },
  {
   "cell_type": "markdown",
   "id": "279af8d0",
   "metadata": {},
   "source": [
    "Estas demoras podrían reflejar ineficiencias en la comunicación y seguimiento entre etapas. La mayor demora es de 775 días (aproximadamente 2 años y 1 mes), lo cual representa un tiempo excesivo. Optimizar estas áreas podría reducir significativamente la duración total del proceso."
   ]
  },
  {
   "cell_type": "markdown",
   "id": "adfca392",
   "metadata": {},
   "source": [
    "### 2.5 Variantes que inician y terminan correctamente\n",
    "\n",
    "Debemos entender mejor el proceso para poder determinar cuales variantes son las que inician y terminan correctamente, \n",
    "\n",
    "Consultando a ChatGPT, un proceso correcto contempla:\n",
    "\n",
    "#### Proceso resumido de multas de tránsito en Italia\n",
    "\n",
    "1. **Notificación**  \n",
    "   - Si el conductor es detenido, la multa se entrega en el acto.  \n",
    "   - Si no, se envía por correo certificado al propietario del vehículo (plazo máximo: 90 días desde la identificación).\n",
    "\n",
    "2. **Pago**  \n",
    "   - **Descuento del 30%** si se paga dentro de los primeros **5 días**.  \n",
    "   - Pago completo posible hasta **60 días**.  \n",
    "   - Pasado ese plazo, se aplican recargos y el caso pasa a la agencia de recaudación estatal.\n",
    "\n",
    "3. **Recurso**  \n",
    "   - Se puede apelar ante el **Prefetto** (60 días) o el **Giudice di Pace** (30 días).\n",
    "\n",
    "4. **Cobro forzoso**  \n",
    "   - Si no se paga ni se apela, se procede al cobro mediante embargo u otras medidas coercitivas.\n",
    "\n",
    "\n",
    "\n",
    "\n",
    "Entonces,podemos decir que las variantes que terminan correctamente son aquellas que:\n",
    "1. Finalizan con el pago de la multa (_Payment_)\n",
    "2. El Infractor apela y la apelación es aceptada (_Notify Result Appeal to Offender_)\n",
    "3. El cobro esta atrasado y se recurre a una agencia de cobros(_Send for Credit Collection_)"
   ]
  },
  {
   "cell_type": "markdown",
   "id": "005d1b3e",
   "metadata": {},
   "source": [
    "## 3. Análisis del log mediante preguntas\n",
    "\n",
    "En esta sección se analiza el log de eventos respondiendo preguntas clave que permiten explorar el proceso desde distintas perspectivas. Se aplican distintas herramientas vistas en clases para comprender mejor su funcionamiento y detectar posibles mejoras."
   ]
  },
  {
   "cell_type": "markdown",
   "id": "1c287c84",
   "metadata": {},
   "source": [
    "### 3.1 ¿Cuáles son los caminos más frecuentes que se siguen en este proceso / subproceso? \n",
    "\n",
    "Esta pregunta resulta algo redundante, ya que en las secciones 1.6 y 2.2 se identificaron los caminos más frecuentes del proceso (al 80% y 90%, respectivamente). En la sección 1.6 se observó que el 85.91 % de los casos sigue principalmente tres variantes, siendo las más comunes aquellas que comienzan con `Create Fine` y concluyen en `Payment` , `Send for Credit Collection` y `Send Fine`."
   ]
  },
  {
   "cell_type": "markdown",
   "id": "1bcf592a",
   "metadata": {},
   "source": [
    "### 3.2 Identifique algún punto de decisión del proceso y descríbalo. ¿Cuáles son los caminos de salida de esa actividad? ¿Qué camino es más o menos frecuente? "
   ]
  },
  {
   "cell_type": "code",
   "execution_count": 59,
   "id": "ab1ef820",
   "metadata": {
    "vscode": {
     "languageId": "r"
    }
   },
   "outputs": [
    {
     "name": "stdout",
     "output_type": "stream",
     "text": [
      "\u001b[90m# A tibble: 6 × 3\u001b[39m\n",
      "  antecedent  consequent                                n\n",
      "  \u001b[3m\u001b[90m<fct>\u001b[39m\u001b[23m       \u001b[3m\u001b[90m<fct>\u001b[39m\u001b[23m                                 \u001b[3m\u001b[90m<int>\u001b[39m\u001b[23m\n",
      "\u001b[90m1\u001b[39m Add penalty Send for Credit Collection             \u001b[4m3\u001b[24m288\n",
      "\u001b[90m2\u001b[39m Add penalty Payment                                \u001b[4m1\u001b[24m117\n",
      "\u001b[90m3\u001b[39m Add penalty Send Appeal to Prefecture               171\n",
      "\u001b[90m4\u001b[39m Add penalty Insert Date Appeal to Prefecture         41\n",
      "\u001b[90m5\u001b[39m Add penalty Receive Result Appeal from Prefecture    15\n",
      "\u001b[90m6\u001b[39m Add penalty Notify Result Appeal to Offender          3\n"
     ]
    }
   ],
   "source": [
    "# Analizar las salidas desde \"Add penalty\"\n",
    "precedence_matrix(traffic_fines, type = \"absolute\") %>%\n",
    "  filter(antecedent == \"Add penalty\") %>%\n",
    "  arrange(desc(n)) -> decision_point\n",
    "\n",
    "print(decision_point)"
   ]
  },
  {
   "cell_type": "markdown",
   "id": "bd153d63",
   "metadata": {},
   "source": [
    "Un punto de decisión importante en el proceso (viendo el diagrama de la sección 2.1) es la actividad `Add penalty`. Esta actividad presenta múltiples caminos de salida, lo cual indica que en este punto se toman decisiones que determinan distintas rutas para el caso.\n",
    "\n",
    "Desde `Add penalty`, los caminos de salida son (viendo la ayuda de código previamente):  \n",
    "- `Send for Credit Collection`: 3288 veces  \n",
    "- `Payment`: 1177  \n",
    "- `Send Appeal to Prefecture`: 171 veces  \n",
    "- `Insert Date Appeal to Prefecture`: 41 veces  \n",
    "- `Receive Result Appeal from Prefecture`: 15 veces  \n",
    "- `Notify Result Appeal to Offender`: 3 veces  \n",
    "\n",
    "\n",
    "El camino más frecuente es hacia **Send for Credit Collection**, con 3288 casos, lo que representa la gran mayoría de los flujos salientes desde esta actividad.\n",
    "\n",
    "En contraste, los caminos menos frecuentes son aquellos relacionados con apelaciones, como **Notify Result Appeal to Offender** (3 veces) y **Receive Result Appeal from Prefecture** (15 veces), lo que indica que son pocos los casos en que los infractores deciden apelar la multa."
   ]
  },
  {
   "cell_type": "code",
   "execution_count": 60,
   "id": "bd3eb4f7",
   "metadata": {
    "vscode": {
     "languageId": "r"
    }
   },
   "outputs": [
    {
     "name": "stdout",
     "output_type": "stream",
     "text": [
      "\u001b[90m# A tibble: 4 × 3\u001b[39m\n",
      "  antecedent consequent                           n\n",
      "  \u001b[3m\u001b[90m<fct>\u001b[39m\u001b[23m      \u001b[3m\u001b[90m<fct>\u001b[39m\u001b[23m                            \u001b[3m\u001b[90m<int>\u001b[39m\u001b[23m\n",
      "\u001b[90m1\u001b[39m Send Fine  Insert Fine Notification          \u001b[4m4\u001b[24m633\n",
      "\u001b[90m2\u001b[39m Send Fine  End                               \u001b[4m1\u001b[24m893\n",
      "\u001b[90m3\u001b[39m Send Fine  Payment                             42\n",
      "\u001b[90m4\u001b[39m Send Fine  Insert Date Appeal to Prefecture     2\n"
     ]
    }
   ],
   "source": [
    "# Analizar las salidas desde \"Send Fine\"\n",
    "precedence_matrix(traffic_fines, type = \"absolute\") %>%\n",
    "  filter(antecedent == \"Send Fine\") %>%\n",
    "  arrange(desc(n)) -> decision_point\n",
    "\n",
    "print(decision_point)"
   ]
  },
  {
   "cell_type": "markdown",
   "id": "60c6bbca",
   "metadata": {},
   "source": [
    "Aunque la actividad **Send Fine** presenta un mayor número de ocurrencias (6570 veces), se caracteriza por tener un flujo más lineal y predecible, principalmente derivando a **Insert Fine Notification** (4653 veces) o a **End** (1893 veces). En cambio, la actividad **Add penalty** actúa como un verdadero punto de decisión dentro del proceso, ya que desde ahí se ramifican múltiples caminos con distintos propósitos. Esta diversidad de salidas convierte a **Add penalty** en una actividad crítica para comprender las distintas trayectorias del proceso, no solo por su volumen (4635 ocurrencias), sino por su impacto estructural en el flujo posterior."
   ]
  },
  {
   "cell_type": "code",
   "execution_count": 61,
   "id": "c8dc9364",
   "metadata": {
    "vscode": {
     "languageId": "r"
    }
   },
   "outputs": [
    {
     "name": "stdout",
     "output_type": "stream",
     "text": [
      "\u001b[90m# A tibble: 4 × 3\u001b[39m\n",
      "  antecedent               consequent                           n\n",
      "  \u001b[3m\u001b[90m<fct>\u001b[39m\u001b[23m                    \u001b[3m\u001b[90m<fct>\u001b[39m\u001b[23m                            \u001b[3m\u001b[90m<int>\u001b[39m\u001b[23m\n",
      "\u001b[90m1\u001b[39m Insert Fine Notification Add penalty                       \u001b[4m4\u001b[24m417\n",
      "\u001b[90m2\u001b[39m Insert Fine Notification Insert Date Appeal to Prefecture   188\n",
      "\u001b[90m3\u001b[39m Insert Fine Notification Payment                             16\n",
      "\u001b[90m4\u001b[39m Insert Fine Notification Appeal to Judge                     14\n"
     ]
    }
   ],
   "source": [
    "# Analizar las salidas desde \"Insert Fine Notification\"\n",
    "precedence_matrix(traffic_fines, type = \"absolute\") %>%\n",
    "  filter(antecedent == \"Insert Fine Notification\") %>%\n",
    "  arrange(desc(n)) -> decision_point\n",
    "\n",
    "print(decision_point)"
   ]
  },
  {
   "cell_type": "markdown",
   "id": "7c81cf91",
   "metadata": {},
   "source": [
    "Como mencionamos en el parrafo anterior, ocurre la misma idea para Insert Fine Notification."
   ]
  },
  {
   "cell_type": "markdown",
   "id": "c2aa77de",
   "metadata": {},
   "source": [
    "### 3.3 ¿Dónde se producen cuellos de botella? ¿Ocurren estos en actividades muy frecuentes, o poco frecuentes?"
   ]
  },
  {
   "cell_type": "markdown",
   "id": "522a4a59",
   "metadata": {},
   "source": [
    "### 3.4 ¿Existen algunos trabajadores que tarden más o menos tiempo en realizar el trabajo? \n",
    "\n",
    "Sí, se puede inferir que existen diferencias entre los trabajadores en cuanto al tiempo que tardan en realizar su trabajo, aunque la tabla presentada en la sección 1.7 no muestra directamente tiempos de procesamiento, sino la frecuencia con que cada recurso participa en el proceso.\n",
    "\n",
    "Por ejemplo, el recurso identificado como 559 participó en 1278 eventos (3,68%), mientras que 536 solo participó en 20 casos (0,057%). Otros recursos como 557, 541 o 561 también muestran una \"poca\" participación, lo que podría sugerir que son más eficientes, están más disponibles o se les asignan tareas de menor duración. En cambio, los recursos con baja frecuencia podrían estar asignados a actividades menos frecuentes, más complejas o que requieren más tiempo para completarse.\n",
    "\n",
    "Además, un 71,1% de los eventos no tienen recurso asignado (NA), lo que sugiere que gran parte del proceso podría ser automático o no estar trazado por persona, lo cual limita el análisis completo del desempeño individual.\n",
    "\n",
    "En resumen, aunque no contamos con datos de duración por trabajador (por temas de código), la variabilidad en la cantidad de casos asignados a cada recurso permite suponer que sí existen diferencias en el tiempo o eficiencia con que cada trabajador realiza sus tareas."
   ]
  },
  {
   "cell_type": "markdown",
   "id": "046f6efe",
   "metadata": {},
   "source": [
    "En esta sección, utilizamos diferentes técnicas y gráficos vistos en las secciones 1 y 2. Estos gráficos fueron clave para responder a las preguntas planteadas, permitiendo analizar el proceso desde diversas perspectivas. Aunque no se pudieron responder más preguntas interesantes debido a problemas técnicos con la instalación de librerías, el enfoque permitió obtener información valiosa sobre el proceso."
   ]
  },
  {
   "cell_type": "markdown",
   "id": "a93bc9fa",
   "metadata": {},
   "source": [
    "## 4. Propuesta de mejoras al proceso\n",
    "\n",
    "A partir del análisis realizado en las secciones anteriores, se han identificado áreas del proceso que podrían beneficiarse de mejoras para optimizar su eficiencia y reducir tiempos o errores. Las siguientes propuestas buscan simplificar el flujo de trabajo, reducir reprocesos y mejorar la eficacia general del proceso de gestión de multas de tránsito, basándose en los hallazgos obtenidos del log de eventos."
   ]
  },
  {
   "cell_type": "markdown",
   "id": "87b53130",
   "metadata": {},
   "source": [
    "### 4.1 Optimización de la comunicación entre etapas clave del proceso (notificación y envío para cobro)\n",
    "\n",
    "Las demoras más significativas (observando el diagrama de la sección 2.4) ocurren en la transición entre etapas críticas, como de **Notify Result Appeal to Offender** a **Send for Credit Collection** (775 días), o de **Add penalty** a **Send for Credit Collection** (474 días). Estas demoras podrían deberse a procesos manuales o a falta de automatización en la comunicación entre las diferentes etapas.\n",
    "\n",
    "### Propuesta:\n",
    "\n",
    "* Automatización del flujo de información: Implementar un sistema automatizado que notifique a las partes involucradas (incluso con recordatorios) de manera rápida sobre los siguientes pasos una vez que se ha tomado una decisión en la apelación o se ha agregado la penalización. Esto podría incluir el uso de herramientas de gestión de procesos o integración de sistemas que comuniquen automáticamente la información a las partes correspondientes, reduciendo así la necesidad de pasos manuales y los posibles retrasos en la comunicación.\n",
    "\n",
    "* Definir alertas y tiempos de respuesta automáticos: Para cada paso crítico, establecer alertas automáticas cuando los procesos estén por vencer o necesiten intervención para evitar que se queden sin seguimiento.\n",
    "\n",
    "\n",
    "### 4.2 Revisión y mejora del proceso de apelación y pago\n",
    "\n",
    "Las transiciones entre **Receive Result Appeal from Prefecture** y **Send for Credit Collection** (541 días), y de **Payment** a **Send for Credit Collection** (422 días) indican que hay retrasos significativos en el manejo de las apelaciones y pagos, lo cual podría estar relacionado con la lentitud en la validación de la información, aprobación o procesamiento de pagos.\n",
    "\n",
    "### Propuesta:\n",
    "\n",
    "* Simplificación y digitalización del proceso de apelaciones y pagos: Mejorar la eficiencia de la revisión de apelaciones y la validación de pagos mediante el uso de plataformas digitales o aplicaciones móviles que permitan a los usuarios cargar directamente los documentos requeridos o realizar pagos de manera inmediata. Esto reduciría el tiempo dedicado a la espera de respuesta, y aceleraría la transición hacia el cobro por parte de la entidad de crédito.\n",
    "\n",
    "* Revisión de los tiempos de espera: Evaluar los criterios de aprobación y tiempos de espera asociados con las apelaciones y pagos. Si hay aprobaciones innecesarias o plazos excesivos, estos podrían ser reducidos, o bien automatizados, para acelerar el proceso.\n",
    "\n",
    "\n",
    "### 4.3 Simplificación del proceso de apelación\n",
    "\n",
    "El proceso de apelación incluye múltiples etapas (como registrar la intención de apelar, enviar la apelación, recibir el resultado, notificarlo, y eventualmente apelar a un juez), lo que lo hace extenso y propenso a demoras.\n",
    "\n",
    "### Prpuesta:\n",
    "\n",
    "* Consolidar algunas de estas etapas, por ejemplo, unificando el registro y envío de la apelación en una sola acción digital, y automatizando la notificación del resultado al infractor. Esto permitiría reducir tiempos, evitar reprocesos y simplificar el flujo general del proceso."
   ]
  },
  {
   "cell_type": "markdown",
   "id": "7f205167",
   "metadata": {},
   "source": [
    "## Conclusión\n",
    "\n",
    "En este trabajo se logró analizar el log de `traffic_fines`, identificando las principales etapas del proceso, las demoras y los cuellos de botella. A través de este análisis, se detectaron áreas clave que podrían beneficiarse de mejoras, como la simplificación del proceso de apelación y la reducción de tiempos de espera. Sin embargo, no fue posible responder a algunas preguntas planteadas debido a problemas técnicos con algunas librerías y fallos en Jupyter Notebook, lo que limitó un poco el alcance del análisis. A pesar de estas dificultades, el trabajo permitió obtener una visión más clara del proceso y sentar las bases para futuras mejoras en la eficiencia del mismo.\n"
   ]
  },
  {
   "cell_type": "markdown",
   "id": "a4f6930b",
   "metadata": {},
   "source": [
    "## Referencias\n",
    "* https://link.springer.com/article/10.1007/s00607-015-0441-1\n",
    "* https://chat.openai.com/\n",
    "* https://github.com/rahulbhat44/Process-Mining-using-Prom-Lite"
   ]
  }
 ],
 "metadata": {
  "kernelspec": {
   "display_name": "R",
   "language": "R",
   "name": "ir"
  },
  "language_info": {
   "codemirror_mode": "r",
   "file_extension": ".r",
   "mimetype": "text/x-r-source",
   "name": "R",
   "pygments_lexer": "r",
   "version": "4.3.3"
  }
 },
 "nbformat": 4,
 "nbformat_minor": 5
}
