{
 "cells": [
  {
   "cell_type": "markdown",
   "id": "03f675fb",
   "metadata": {},
   "source": [
    "# Tarea INFO286: Minería de Procesos\n",
    "\n",
    "Integrantes: Felipe Córdova y Javier Reyes  \n",
    "Profesor: Juan Salazar  \n",
    "Fecha: 09/05/2025  \n"
   ]
  },
  {
   "cell_type": "markdown",
   "id": "7cdc5a35",
   "metadata": {},
   "source": [
    "## Resumen\n",
    "\n",
    "En este trabajo se analiza el log de eventos `traffic_fines`, el cual representa el proceso de gestión de multas de tránsito en Italia. Se utilizaron herramientas del ecosistema `bupaR` en R para explorar el log, visualizar el proceso, responder preguntas específicas y proponer mejoras. Se identificaron cuellos de botella, variantes comunes y actividades críticas. Entre los principales hallazgos destacan demoras considerables en ciertas etapas y la existencia de múltiples variantes del proceso. Se proponen dos mejoras orientadas a reducir tiempos muertos y simplificar el flujo de actividades.\n"
   ]
  },
  {
   "cell_type": "markdown",
   "id": "1b2dccb3",
   "metadata": {},
   "source": [
    "### Instalación y carga de paquetes"
   ]
  },
  {
   "cell_type": "code",
   "execution_count": 153,
   "id": "9669b2df",
   "metadata": {
    "vscode": {
     "languageId": "r"
    }
   },
   "outputs": [],
   "source": [
    "# Instalar los paquetes solo la primera vez:\n",
    "# install.packages(\"bupaR\")\n",
    "# install.packages(\"eventdataR\")  # contiene el log traffic_fines\n",
    "# install.packages(\"edeaR\")       # análisis exploratorio\n",
    "# install.packages(\"processmapR\") # mapas de proceso\n",
    "# install.packages(\"processmonitR\") # monitoreo\n",
    "\n",
    "# Cargar los paquetes:\n",
    "library(bupaR)\n",
    "library(eventdataR)\n",
    "library(edeaR)\n",
    "library(processmapR)\n",
    "library(processmonitR)\n",
    "library(ggplot2)"
   ]
  },
  {
   "cell_type": "markdown",
   "id": "368b36d9",
   "metadata": {},
   "source": [
    "### Cargar y explorar el log *traffic_fines*"
   ]
  },
  {
   "cell_type": "code",
   "execution_count": 154,
   "id": "5432c181",
   "metadata": {
    "vscode": {
     "languageId": "r"
    }
   },
   "outputs": [],
   "source": [
    "data(\"traffic_fines\")"
   ]
  },
  {
   "cell_type": "markdown",
   "id": "7332ffa9",
   "metadata": {},
   "source": [
    "Cambiamos el nombre de nuestro log de `traffic_fines` a `data` para mas comodidad."
   ]
  },
  {
   "cell_type": "code",
   "execution_count": 155,
   "id": "2c9df25f",
   "metadata": {
    "vscode": {
     "languageId": "r"
    }
   },
   "outputs": [],
   "source": [
    "data <- traffic_fines"
   ]
  },
  {
   "cell_type": "markdown",
   "id": "d2ca17fc",
   "metadata": {},
   "source": [
    "## 1. Descripción general del log\n",
    "\n",
    "En esta sección se realiza una revisión exploratoria de los datos del proceso, identificando aspectos clave como la cantidad de casos, el número de actividades distintas, las ventanas de tiempo involucradas, la duración de los casos, la cantidad y distribución de variantes, así como los participantes que intervienen en el proceso.\n",
    "\n",
    "Dado que el log ya ha sido cargado, procedemos a presentar un resumen general de los datos."
   ]
  },
  {
   "cell_type": "code",
   "execution_count": 156,
   "id": "abbf7c69",
   "metadata": {
    "vscode": {
     "languageId": "r"
    }
   },
   "outputs": [
    {
     "name": "stdout",
     "output_type": "stream",
     "text": [
      "Number of events:  34724\n",
      "Number of cases:  10000\n",
      "Number of traces:  44\n",
      "Number of distinct activities:  11\n",
      "Average trace length:  3.4724\n",
      "\n",
      "Start eventlog:  2006-06-17\n",
      "End eventlog:  2012-03-26\n",
      "\n"
     ]
    },
    {
     "data": {
      "text/plain": [
       "   case_id                                activity        lifecycle    \n",
       " Length:34724       Create Fine               :10000   complete:34724  \n",
       " Class :character   Send Fine                 : 6570                   \n",
       " Mode  :character   Payment                   : 4910                   \n",
       "                    Add penalty               : 4635                   \n",
       "                    Insert Fine Notification  : 4635                   \n",
       "                    Send for Credit Collection: 3387                   \n",
       "                    (Other)                   :  587                   \n",
       "    resource       timestamp                         amount         \n",
       " 559    : 1278   Min.   :2006-06-17 00:00:00.00   Length:34724      \n",
       " 557    : 1181   1st Qu.:2007-07-19 00:00:00.00   Class :character  \n",
       " 541    : 1119   Median :2007-10-29 00:00:00.00   Mode  :character  \n",
       " 561    : 1002   Mean   :2007-12-06 15:34:51.32                     \n",
       " 558    :  948   3rd Qu.:2008-02-29 00:00:00.00                     \n",
       " (Other): 4491   Max.   :2012-03-26 00:00:00.00                     \n",
       " NA's   :24705                                                      \n",
       "    article       dismissal           expense            lastsent        \n",
       " Min.   :  7.0   Length:34724       Length:34724       Length:34724      \n",
       " 1st Qu.:157.0   Class :character   Class :character   Class :character  \n",
       " Median :157.0   Mode  :character   Mode  :character   Mode  :character  \n",
       " Mean   :131.8                                                           \n",
       " 3rd Qu.:157.0                                                           \n",
       " Max.   :158.0                                                           \n",
       " NA's   :24724                                                           \n",
       "   matricola     notificationtype   paymentamount        points     \n",
       " Min.   :0       Length:34724       Min.   :  60.0   Min.   :0.000  \n",
       " 1st Qu.:0       Class :character   1st Qu.: 360.0   1st Qu.:0.000  \n",
       " Median :0       Mode  :character   Median : 360.0   Median :0.000  \n",
       " Mean   :0                          Mean   : 451.6   Mean   :0.003  \n",
       " 3rd Qu.:0                          3rd Qu.: 380.0   3rd Qu.:0.000  \n",
       " Max.   :0                          Max.   :4926.0   Max.   :2.000  \n",
       " NA's   :34705                      NA's   :29814    NA's   :24724  \n",
       " totalpaymentamount vehicleclass       activity_instance_id     .order     \n",
       " Length:34724       Length:34724       Length:34724         Min.   :    1  \n",
       " Class :character   Class :character   Class :character     1st Qu.: 8682  \n",
       " Mode  :character   Mode  :character   Mode  :character     Median :17363  \n",
       "                                                            Mean   :17363  \n",
       "                                                            3rd Qu.:26043  \n",
       "                                                            Max.   :34724  \n",
       "                                                                           "
      ]
     },
     "metadata": {},
     "output_type": "display_data"
    }
   ],
   "source": [
    "# Resumen general del log\n",
    "summary(data)"
   ]
  },
  {
   "cell_type": "code",
   "execution_count": 157,
   "id": "6ea702b3",
   "metadata": {
    "vscode": {
     "languageId": "r"
    }
   },
   "outputs": [
    {
     "data": {
      "text/html": [
       "11"
      ],
      "text/latex": [
       "11"
      ],
      "text/markdown": [
       "11"
      ],
      "text/plain": [
       "[1] 11"
      ]
     },
     "metadata": {},
     "output_type": "display_data"
    }
   ],
   "source": [
    "# Ver numero de actividades\n",
    "n_activities(data)"
   ]
  },
  {
   "cell_type": "code",
   "execution_count": 158,
   "id": "812641c4",
   "metadata": {
    "vscode": {
     "languageId": "r"
    }
   },
   "outputs": [
    {
     "data": {
      "text/html": [
       "<table class=\"dataframe\">\n",
       "<caption>A tibble: 11 × 1</caption>\n",
       "<thead>\n",
       "\t<tr><th scope=col>.</th></tr>\n",
       "\t<tr><th scope=col>&lt;fct&gt;</th></tr>\n",
       "</thead>\n",
       "<tbody>\n",
       "\t<tr><td>Create Fine                          </td></tr>\n",
       "\t<tr><td>Send Fine                            </td></tr>\n",
       "\t<tr><td>Insert Fine Notification             </td></tr>\n",
       "\t<tr><td>Add penalty                          </td></tr>\n",
       "\t<tr><td>Send for Credit Collection           </td></tr>\n",
       "\t<tr><td>Payment                              </td></tr>\n",
       "\t<tr><td>Insert Date Appeal to Prefecture     </td></tr>\n",
       "\t<tr><td>Send Appeal to Prefecture            </td></tr>\n",
       "\t<tr><td>Receive Result Appeal from Prefecture</td></tr>\n",
       "\t<tr><td>Notify Result Appeal to Offender     </td></tr>\n",
       "\t<tr><td>Appeal to Judge                      </td></tr>\n",
       "</tbody>\n",
       "</table>\n"
      ],
      "text/latex": [
       "A tibble: 11 × 1\n",
       "\\begin{tabular}{l}\n",
       " .\\\\\n",
       " <fct>\\\\\n",
       "\\hline\n",
       "\t Create Fine                          \\\\\n",
       "\t Send Fine                            \\\\\n",
       "\t Insert Fine Notification             \\\\\n",
       "\t Add penalty                          \\\\\n",
       "\t Send for Credit Collection           \\\\\n",
       "\t Payment                              \\\\\n",
       "\t Insert Date Appeal to Prefecture     \\\\\n",
       "\t Send Appeal to Prefecture            \\\\\n",
       "\t Receive Result Appeal from Prefecture\\\\\n",
       "\t Notify Result Appeal to Offender     \\\\\n",
       "\t Appeal to Judge                      \\\\\n",
       "\\end{tabular}\n"
      ],
      "text/markdown": [
       "\n",
       "A tibble: 11 × 1\n",
       "\n",
       "| . &lt;fct&gt; |\n",
       "|---|\n",
       "| Create Fine                           |\n",
       "| Send Fine                             |\n",
       "| Insert Fine Notification              |\n",
       "| Add penalty                           |\n",
       "| Send for Credit Collection            |\n",
       "| Payment                               |\n",
       "| Insert Date Appeal to Prefecture      |\n",
       "| Send Appeal to Prefecture             |\n",
       "| Receive Result Appeal from Prefecture |\n",
       "| Notify Result Appeal to Offender      |\n",
       "| Appeal to Judge                       |\n",
       "\n"
      ],
      "text/plain": [
       "   .                                    \n",
       "1  Create Fine                          \n",
       "2  Send Fine                            \n",
       "3  Insert Fine Notification             \n",
       "4  Add penalty                          \n",
       "5  Send for Credit Collection           \n",
       "6  Payment                              \n",
       "7  Insert Date Appeal to Prefecture     \n",
       "8  Send Appeal to Prefecture            \n",
       "9  Receive Result Appeal from Prefecture\n",
       "10 Notify Result Appeal to Offender     \n",
       "11 Appeal to Judge                      "
      ]
     },
     "metadata": {},
     "output_type": "display_data"
    }
   ],
   "source": [
    "# Ya sabemos que son 11 actividades, veamos cuales son\n",
    "library(dplyr)\n",
    "\n",
    "activity_labels(data) %>% \n",
    "  as.data.frame() %>% \n",
    "  tibble::as_tibble()  # Convertir en tibble para una mejor presentación"
   ]
  },
  {
   "cell_type": "code",
   "execution_count": 159,
   "id": "525880b8",
   "metadata": {
    "vscode": {
     "languageId": "r"
    }
   },
   "outputs": [],
   "source": [
    "# Ventana de tiempo\n"
   ]
  },
  {
   "cell_type": "code",
   "execution_count": 160,
   "id": "e2bc0d04",
   "metadata": {
    "vscode": {
     "languageId": "r"
    }
   },
   "outputs": [],
   "source": [
    "# Duración de los casos"
   ]
  },
  {
   "cell_type": "code",
   "execution_count": 161,
   "id": "cc131114",
   "metadata": {
    "vscode": {
     "languageId": "r"
    }
   },
   "outputs": [
    {
     "data": {
      "image/png": "[encoded data removed]",
      "text/plain": [
       "plot without title"
      ]
     },
     "metadata": {
      "image/png": {
       "height": 900,
       "width": 1200
      }
     },
     "output_type": "display_data"
    }
   ],
   "source": [
    "# Cantidad y distribución de variantes\n",
    "\n",
    "data %>%\n",
    "  trace_explorer(coverage = 0.5)"
   ]
  },
  {
   "cell_type": "code",
   "execution_count": 162,
   "id": "a2b75b6a",
   "metadata": {
    "vscode": {
     "languageId": "r"
    }
   },
   "outputs": [],
   "source": [
    "# Personas que participan en el proceso\n"
   ]
  },
  {
   "cell_type": "markdown",
   "id": "a8ac1a4c",
   "metadata": {},
   "source": [
    "### Descripción General "
   ]
  },
  {
   "cell_type": "markdown",
   "id": "e19f7c6c",
   "metadata": {},
   "source": [
    "| Información | Cantidad | \n",
    "| :--| :-- |\n",
    "| Número de casos |  10000 casos |\n",
    "| Número de actividades únicas | n actividades |\n",
    "| Ventana de tiempo |  |\n",
    "| Duración de los casos |  |\n",
    "| Cantidad de variantes |  |\n",
    "| Distribución de variantes |  |\n",
    "| Personas / Roles que participan |  | \n",
    "| Con qué información se cuenta |  |\n",
    "| Con qué información no se cuenta | "
   ]
  },
  {
   "cell_type": "markdown",
   "id": "a080bf43",
   "metadata": {},
   "source": [
    "## 2. Análisis del diagrama del proceso\n"
   ]
  },
  {
   "cell_type": "markdown",
   "id": "005d1b3e",
   "metadata": {},
   "source": [
    "## 3. Análisis del log mediante preguntas\n"
   ]
  },
  {
   "cell_type": "markdown",
   "id": "a93bc9fa",
   "metadata": {},
   "source": [
    "## 4. Propuesta de mejoras al proceso\n"
   ]
  },
  {
   "cell_type": "markdown",
   "id": "7f205167",
   "metadata": {},
   "source": [
    "## Conclusión\n",
    "\n",
    "Resumen de lo aprendido, limitaciones y posibles mejoras futuras del análisis.\n"
   ]
  }
 ],
 "metadata": {
  "kernelspec": {
   "display_name": "R",
   "language": "R",
   "name": "ir"
  },
  "language_info": {
   "codemirror_mode": "r",
   "file_extension": ".r",
   "mimetype": "text/x-r-source",
   "name": "R",
   "pygments_lexer": "r",
   "version": "4.3.3"
  }
 },
 "nbformat": 4,
 "nbformat_minor": 5
}
