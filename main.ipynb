{
 "cells": [
  {
   "cell_type": "markdown",
   "id": "03f675fb",
   "metadata": {},
   "source": [
    "# Tarea INFO286: Minería de Procesos\n",
    "\n",
    "Integrantes: Felipe Córdova y Javier Reyes  \n",
    "Profesor: Juan Salazar  \n",
    "Fecha: 09/05/2025  \n"
   ]
  },
  {
   "cell_type": "markdown",
   "id": "7cdc5a35",
   "metadata": {},
   "source": [
    "## Resumen\n",
    "\n",
    "En este trabajo se analiza el log de eventos `traffic_fines`, el cual representa el proceso de gestión de multas de tránsito en Italia. Se utilizaron herramientas del ecosistema `bupaR` en R para explorar el log, visualizar el proceso, responder preguntas específicas y proponer mejoras. Se identificaron cuellos de botella, variantes comunes y actividades críticas. Entre los principales hallazgos destacan demoras considerables en ciertas etapas y la existencia de múltiples variantes del proceso. Se proponen dos mejoras orientadas a reducir tiempos muertos y simplificar el flujo de actividades.\n"
   ]
  },
  {
   "cell_type": "markdown",
   "id": "1b2dccb3",
   "metadata": {},
   "source": [
    "### Instalación y carga de paquetes"
   ]
  },
  {
   "cell_type": "code",
   "execution_count": 104,
   "id": "9669b2df",
   "metadata": {
    "vscode": {
     "languageId": "r"
    }
   },
   "outputs": [],
   "source": [
    "# Instalar los paquetes solo la primera vez:\n",
    "# install.packages(\"bupaR\")\n",
    "# install.packages(\"eventdataR\")  # contiene el log traffic_fines\n",
    "# install.packages(\"edeaR\")       # análisis exploratorio\n",
    "# install.packages(\"processmapR\") # mapas de proceso\n",
    "# install.packages(\"processmonitR\") # monitoreo\n",
    "\n",
    "# Cargar los paquetes:\n",
    "library(bupaR)\n",
    "library(eventdataR)\n",
    "library(edeaR)\n",
    "library(processmapR)\n",
    "library(processmonitR)\n",
    "library(ggplot2)"
   ]
  },
  {
   "cell_type": "markdown",
   "id": "368b36d9",
   "metadata": {},
   "source": [
    "### Cargar el log *traffic_fines*"
   ]
  },
  {
   "cell_type": "code",
   "execution_count": 105,
   "id": "5432c181",
   "metadata": {
    "vscode": {
     "languageId": "r"
    }
   },
   "outputs": [],
   "source": [
    "data(\"traffic_fines\")"
   ]
  },
  {
   "cell_type": "markdown",
   "id": "d2ca17fc",
   "metadata": {},
   "source": [
    "## 1. Descripción general del log\n",
    "\n",
    "En esta sección se realiza una revisión exploratoria de los datos del proceso, identificando aspectos clave como la cantidad de casos, el número de actividades distintas, las ventanas de tiempo involucradas, la duración de los casos, la cantidad y distribución de variantes, así como los participantes que intervienen en el proceso.\n",
    "\n",
    "Dado que el log ya ha sido cargado, procedemos a presentar un resumen general de los datos."
   ]
  },
  {
   "cell_type": "code",
   "execution_count": 106,
   "id": "abbf7c69",
   "metadata": {
    "vscode": {
     "languageId": "r"
    }
   },
   "outputs": [
    {
     "name": "stdout",
     "output_type": "stream",
     "text": [
      "Number of events:  34724\n",
      "Number of cases:  10000\n",
      "Number of traces:  44\n",
      "Number of distinct activities:  11\n",
      "Average trace length:  3.4724\n",
      "\n",
      "Start eventlog:  2006-06-17\n",
      "End eventlog:  2012-03-26\n",
      "\n"
     ]
    },
    {
     "data": {
      "text/plain": [
       "   case_id                                activity        lifecycle    \n",
       " Length:34724       Create Fine               :10000   complete:34724  \n",
       " Class :character   Send Fine                 : 6570                   \n",
       " Mode  :character   Payment                   : 4910                   \n",
       "                    Add penalty               : 4635                   \n",
       "                    Insert Fine Notification  : 4635                   \n",
       "                    Send for Credit Collection: 3387                   \n",
       "                    (Other)                   :  587                   \n",
       "    resource       timestamp                         amount         \n",
       " 559    : 1278   Min.   :2006-06-17 00:00:00.00   Length:34724      \n",
       " 557    : 1181   1st Qu.:2007-07-19 00:00:00.00   Class :character  \n",
       " 541    : 1119   Median :2007-10-29 00:00:00.00   Mode  :character  \n",
       " 561    : 1002   Mean   :2007-12-06 15:34:51.32                     \n",
       " 558    :  948   3rd Qu.:2008-02-29 00:00:00.00                     \n",
       " (Other): 4491   Max.   :2012-03-26 00:00:00.00                     \n",
       " NA's   :24705                                                      \n",
       "    article       dismissal           expense            lastsent        \n",
       " Min.   :  7.0   Length:34724       Length:34724       Length:34724      \n",
       " 1st Qu.:157.0   Class :character   Class :character   Class :character  \n",
       " Median :157.0   Mode  :character   Mode  :character   Mode  :character  \n",
       " Mean   :131.8                                                           \n",
       " 3rd Qu.:157.0                                                           \n",
       " Max.   :158.0                                                           \n",
       " NA's   :24724                                                           \n",
       "   matricola     notificationtype   paymentamount        points     \n",
       " Min.   :0       Length:34724       Min.   :  60.0   Min.   :0.000  \n",
       " 1st Qu.:0       Class :character   1st Qu.: 360.0   1st Qu.:0.000  \n",
       " Median :0       Mode  :character   Median : 360.0   Median :0.000  \n",
       " Mean   :0                          Mean   : 451.6   Mean   :0.003  \n",
       " 3rd Qu.:0                          3rd Qu.: 380.0   3rd Qu.:0.000  \n",
       " Max.   :0                          Max.   :4926.0   Max.   :2.000  \n",
       " NA's   :34705                      NA's   :29814    NA's   :24724  \n",
       " totalpaymentamount vehicleclass       activity_instance_id     .order     \n",
       " Length:34724       Length:34724       Length:34724         Min.   :    1  \n",
       " Class :character   Class :character   Class :character     1st Qu.: 8682  \n",
       " Mode  :character   Mode  :character   Mode  :character     Median :17363  \n",
       "                                                            Mean   :17363  \n",
       "                                                            3rd Qu.:26043  \n",
       "                                                            Max.   :34724  \n",
       "                                                                           "
      ]
     },
     "metadata": {},
     "output_type": "display_data"
    }
   ],
   "source": [
    "# Resumen general del log\n",
    "summary(traffic_fines)"
   ]
  },
  {
   "cell_type": "markdown",
   "id": "d7e3d7a2",
   "metadata": {},
   "source": [
    "Algunos de los datos solicitados pueden observarse en el resumen general obtenido previamente mediante la función `summary(data)` en R. Sin embargo, a continuación se presentan algunos comandos específicos de la librería bupaR que permiten visualizar esta información de manera más clara y detallada."
   ]
  },
  {
   "cell_type": "code",
   "execution_count": 107,
   "id": "4a91c421",
   "metadata": {
    "vscode": {
     "languageId": "r"
    }
   },
   "outputs": [
    {
     "data": {
      "text/html": [
       "10000"
      ],
      "text/latex": [
       "10000"
      ],
      "text/markdown": [
       "10000"
      ],
      "text/plain": [
       "[1] 10000"
      ]
     },
     "metadata": {},
     "output_type": "display_data"
    }
   ],
   "source": [
    "# Número de casos\n",
    "n_cases(traffic_fines)"
   ]
  },
  {
   "cell_type": "code",
   "execution_count": 108,
   "id": "6ea702b3",
   "metadata": {
    "vscode": {
     "languageId": "r"
    }
   },
   "outputs": [
    {
     "data": {
      "text/html": [
       "11"
      ],
      "text/latex": [
       "11"
      ],
      "text/markdown": [
       "11"
      ],
      "text/plain": [
       "[1] 11"
      ]
     },
     "metadata": {},
     "output_type": "display_data"
    }
   ],
   "source": [
    "# Número de actividades distintas\n",
    "n_activities(traffic_fines)"
   ]
  },
  {
   "cell_type": "code",
   "execution_count": 109,
   "id": "1f70c821",
   "metadata": {
    "vscode": {
     "languageId": "r"
    }
   },
   "outputs": [
    {
     "data": {
      "text/html": [
       "<table class=\"dataframe\">\n",
       "<caption>A tibble: 11 × 3</caption>\n",
       "<thead>\n",
       "\t<tr><th scope=col>activity</th><th scope=col>absolute_frequency</th><th scope=col>relative_frequency</th></tr>\n",
       "\t<tr><th scope=col>&lt;fct&gt;</th><th scope=col>&lt;int&gt;</th><th scope=col>&lt;dbl&gt;</th></tr>\n",
       "</thead>\n",
       "<tbody>\n",
       "\t<tr><td>Create Fine                          </td><td>10000</td><td>0.287985255</td></tr>\n",
       "\t<tr><td>Send Fine                            </td><td> 6570</td><td>0.189206313</td></tr>\n",
       "\t<tr><td>Payment                              </td><td> 4910</td><td>0.141400760</td></tr>\n",
       "\t<tr><td>Add penalty                          </td><td> 4635</td><td>0.133481166</td></tr>\n",
       "\t<tr><td>Insert Fine Notification             </td><td> 4635</td><td>0.133481166</td></tr>\n",
       "\t<tr><td>Send for Credit Collection           </td><td> 3387</td><td>0.097540606</td></tr>\n",
       "\t<tr><td>Insert Date Appeal to Prefecture     </td><td>  232</td><td>0.006681258</td></tr>\n",
       "\t<tr><td>Send Appeal to Prefecture            </td><td>  227</td><td>0.006537265</td></tr>\n",
       "\t<tr><td>Receive Result Appeal from Prefecture</td><td>   55</td><td>0.001583919</td></tr>\n",
       "\t<tr><td>Notify Result Appeal to Offender     </td><td>   54</td><td>0.001555120</td></tr>\n",
       "\t<tr><td>Appeal to Judge                      </td><td>   19</td><td>0.000547172</td></tr>\n",
       "</tbody>\n",
       "</table>\n"
      ],
      "text/latex": [
       "A tibble: 11 × 3\n",
       "\\begin{tabular}{lll}\n",
       " activity & absolute\\_frequency & relative\\_frequency\\\\\n",
       " <fct> & <int> & <dbl>\\\\\n",
       "\\hline\n",
       "\t Create Fine                           & 10000 & 0.287985255\\\\\n",
       "\t Send Fine                             &  6570 & 0.189206313\\\\\n",
       "\t Payment                               &  4910 & 0.141400760\\\\\n",
       "\t Add penalty                           &  4635 & 0.133481166\\\\\n",
       "\t Insert Fine Notification              &  4635 & 0.133481166\\\\\n",
       "\t Send for Credit Collection            &  3387 & 0.097540606\\\\\n",
       "\t Insert Date Appeal to Prefecture      &   232 & 0.006681258\\\\\n",
       "\t Send Appeal to Prefecture             &   227 & 0.006537265\\\\\n",
       "\t Receive Result Appeal from Prefecture &    55 & 0.001583919\\\\\n",
       "\t Notify Result Appeal to Offender      &    54 & 0.001555120\\\\\n",
       "\t Appeal to Judge                       &    19 & 0.000547172\\\\\n",
       "\\end{tabular}\n"
      ],
      "text/markdown": [
       "\n",
       "A tibble: 11 × 3\n",
       "\n",
       "| activity &lt;fct&gt; | absolute_frequency &lt;int&gt; | relative_frequency &lt;dbl&gt; |\n",
       "|---|---|---|\n",
       "| Create Fine                           | 10000 | 0.287985255 |\n",
       "| Send Fine                             |  6570 | 0.189206313 |\n",
       "| Payment                               |  4910 | 0.141400760 |\n",
       "| Add penalty                           |  4635 | 0.133481166 |\n",
       "| Insert Fine Notification              |  4635 | 0.133481166 |\n",
       "| Send for Credit Collection            |  3387 | 0.097540606 |\n",
       "| Insert Date Appeal to Prefecture      |   232 | 0.006681258 |\n",
       "| Send Appeal to Prefecture             |   227 | 0.006537265 |\n",
       "| Receive Result Appeal from Prefecture |    55 | 0.001583919 |\n",
       "| Notify Result Appeal to Offender      |    54 | 0.001555120 |\n",
       "| Appeal to Judge                       |    19 | 0.000547172 |\n",
       "\n"
      ],
      "text/plain": [
       "   activity                              absolute_frequency relative_frequency\n",
       "1  Create Fine                           10000              0.287985255       \n",
       "2  Send Fine                              6570              0.189206313       \n",
       "3  Payment                                4910              0.141400760       \n",
       "4  Add penalty                            4635              0.133481166       \n",
       "5  Insert Fine Notification               4635              0.133481166       \n",
       "6  Send for Credit Collection             3387              0.097540606       \n",
       "7  Insert Date Appeal to Prefecture        232              0.006681258       \n",
       "8  Send Appeal to Prefecture               227              0.006537265       \n",
       "9  Receive Result Appeal from Prefecture    55              0.001583919       \n",
       "10 Notify Result Appeal to Offender         54              0.001555120       \n",
       "11 Appeal to Judge                          19              0.000547172       "
      ]
     },
     "metadata": {},
     "output_type": "display_data"
    }
   ],
   "source": [
    "# Ver el nombre de las 11 actividades\n",
    "activities(traffic_fines)"
   ]
  },
  {
   "cell_type": "code",
   "execution_count": 110,
   "id": "525880b8",
   "metadata": {
    "vscode": {
     "languageId": "r"
    }
   },
   "outputs": [
    {
     "data": {
      "text/plain": [
       "[1] \"2006-06-17 UTC\""
      ]
     },
     "metadata": {},
     "output_type": "display_data"
    },
    {
     "data": {
      "text/plain": [
       "[1] \"2012-03-26 UTC\""
      ]
     },
     "metadata": {},
     "output_type": "display_data"
    }
   ],
   "source": [
    "# Ventana de tiempo que abarca\n",
    "start_time <- min(traffic_fines$timestamp)\n",
    "end_time <- max(traffic_fines$timestamp)\n",
    "start_time\n",
    "end_time"
   ]
  },
  {
   "cell_type": "code",
   "execution_count": 111,
   "id": "e2bc0d04",
   "metadata": {
    "vscode": {
     "languageId": "r"
    }
   },
   "outputs": [
    {
     "data": {
      "text/html": [
       "<table class=\"dataframe\">\n",
       "<caption>A log_metric: 1 × 8</caption>\n",
       "<thead>\n",
       "\t<tr><th scope=col>min</th><th scope=col>q1</th><th scope=col>median</th><th scope=col>mean</th><th scope=col>q3</th><th scope=col>max</th><th scope=col>st_dev</th><th scope=col>iqr</th></tr>\n",
       "\t<tr><th scope=col>&lt;drtn&gt;</th><th scope=col>&lt;drtn&gt;</th><th scope=col>&lt;drtn&gt;</th><th scope=col>&lt;drtn&gt;</th><th scope=col>&lt;drtn&gt;</th><th scope=col>&lt;drtn&gt;</th><th scope=col>&lt;dbl&gt;</th><th scope=col>&lt;drtn&gt;</th></tr>\n",
       "</thead>\n",
       "<tbody>\n",
       "\t<tr><td>0 days</td><td>7 days</td><td>125 days</td><td>296.1351 days</td><td>596 days</td><td>1956 days</td><td>313.2794</td><td>589 days</td></tr>\n",
       "</tbody>\n",
       "</table>\n"
      ],
      "text/latex": [
       "A log\\_metric: 1 × 8\n",
       "\\begin{tabular}{llllllll}\n",
       " min & q1 & median & mean & q3 & max & st\\_dev & iqr\\\\\n",
       " <drtn> & <drtn> & <drtn> & <drtn> & <drtn> & <drtn> & <dbl> & <drtn>\\\\\n",
       "\\hline\n",
       "\t 0 days & 7 days & 125 days & 296.1351 days & 596 days & 1956 days & 313.2794 & 589 days\\\\\n",
       "\\end{tabular}\n"
      ],
      "text/markdown": [
       "\n",
       "A log_metric: 1 × 8\n",
       "\n",
       "| min &lt;drtn&gt; | q1 &lt;drtn&gt; | median &lt;drtn&gt; | mean &lt;drtn&gt; | q3 &lt;drtn&gt; | max &lt;drtn&gt; | st_dev &lt;dbl&gt; | iqr &lt;drtn&gt; |\n",
       "|---|---|---|---|---|---|---|---|\n",
       "| 0 days | 7 days | 125 days | 296.1351 days | 596 days | 1956 days | 313.2794 | 589 days |\n",
       "\n"
      ],
      "text/plain": [
       "    min    q1     median   mean          q3       max       st_dev   iqr     \n",
       "25% 0 days 7 days 125 days 296.1351 days 596 days 1956 days 313.2794 589 days"
      ]
     },
     "metadata": {},
     "output_type": "display_data"
    }
   ],
   "source": [
    "# Duración de los casos (tiempo total de ejecución de los casos)\n",
    "throughput_time(traffic_fines, units=\"days\")\n",
    "\n",
    "# Duración de los casos (tiempo de cada caso individual)\n",
    "# throughput_time(traffic_fines, units = \"days\", level = \"case\")"
   ]
  },
  {
   "cell_type": "code",
   "execution_count": 112,
   "id": "cc131114",
   "metadata": {
    "vscode": {
     "languageId": "r"
    }
   },
   "outputs": [
    {
     "data": {
      "text/html": [
       "3"
      ],
      "text/latex": [
       "3"
      ],
      "text/markdown": [
       "3"
      ],
      "text/plain": [
       "[1] 3"
      ]
     },
     "metadata": {},
     "output_type": "display_data"
    },
    {
     "data": {
      "image/png": "[encoded data removed]",
      "text/plain": [
       "plot without title"
      ]
     },
     "metadata": {
      "image/png": {
       "height": 420,
       "width": 420
      }
     },
     "output_type": "display_data"
    }
   ],
   "source": [
    "# Distribución de variantes --> Aqui claramente se ve que son 3, pero igual lo hicimos por comando\n",
    "trace_explorer(traffic_fines, coverage = 0.8)\n",
    "\n",
    "# Cantidad de variantes\n",
    "length(unique(trace_list(traffic_fines)))\n"
   ]
  },
  {
   "cell_type": "code",
   "execution_count": 113,
   "id": "a2b75b6a",
   "metadata": {
    "vscode": {
     "languageId": "r"
    }
   },
   "outputs": [
    {
     "data": {
      "text/html": [
       "<table class=\"dataframe\">\n",
       "<caption>A resource_metric: 16 × 4</caption>\n",
       "<thead>\n",
       "\t<tr><th scope=col>resource</th><th scope=col>absolute</th><th scope=col>relative</th><th scope=col>percentage</th></tr>\n",
       "\t<tr><th scope=col>&lt;fct&gt;</th><th scope=col>&lt;int&gt;</th><th scope=col>&lt;dbl&gt;</th><th scope=col>&lt;dbl&gt;</th></tr>\n",
       "</thead>\n",
       "<tbody>\n",
       "\t<tr><td>NA </td><td>24705</td><td>0.7114675729</td><td>71.14675729</td></tr>\n",
       "\t<tr><td>559</td><td> 1278</td><td>0.0368045156</td><td> 3.68045156</td></tr>\n",
       "\t<tr><td>557</td><td> 1181</td><td>0.0340110586</td><td> 3.40110586</td></tr>\n",
       "\t<tr><td>541</td><td> 1119</td><td>0.0322255501</td><td> 3.22255501</td></tr>\n",
       "\t<tr><td>561</td><td> 1002</td><td>0.0288561226</td><td> 2.88561226</td></tr>\n",
       "\t<tr><td>558</td><td>  948</td><td>0.0273010022</td><td> 2.73010022</td></tr>\n",
       "\t<tr><td>537</td><td>  946</td><td>0.0272434051</td><td> 2.72434051</td></tr>\n",
       "\t<tr><td>564</td><td>  602</td><td>0.0173367124</td><td> 1.73367124</td></tr>\n",
       "\t<tr><td>556</td><td>  600</td><td>0.0172791153</td><td> 1.72791153</td></tr>\n",
       "\t<tr><td>550</td><td>  574</td><td>0.0165303536</td><td> 1.65303536</td></tr>\n",
       "\t<tr><td>560</td><td>  537</td><td>0.0154648082</td><td> 1.54648082</td></tr>\n",
       "\t<tr><td>562</td><td>  536</td><td>0.0154360097</td><td> 1.54360097</td></tr>\n",
       "\t<tr><td>563</td><td>  535</td><td>0.0154072112</td><td> 1.54072112</td></tr>\n",
       "\t<tr><td>538</td><td>  122</td><td>0.0035134201</td><td> 0.35134201</td></tr>\n",
       "\t<tr><td>536</td><td>   20</td><td>0.0005759705</td><td> 0.05759705</td></tr>\n",
       "\t<tr><td>0  </td><td>   19</td><td>0.0005471720</td><td> 0.05471720</td></tr>\n",
       "</tbody>\n",
       "</table>\n"
      ],
      "text/latex": [
       "A resource\\_metric: 16 × 4\n",
       "\\begin{tabular}{llll}\n",
       " resource & absolute & relative & percentage\\\\\n",
       " <fct> & <int> & <dbl> & <dbl>\\\\\n",
       "\\hline\n",
       "\t NA  & 24705 & 0.7114675729 & 71.14675729\\\\\n",
       "\t 559 &  1278 & 0.0368045156 &  3.68045156\\\\\n",
       "\t 557 &  1181 & 0.0340110586 &  3.40110586\\\\\n",
       "\t 541 &  1119 & 0.0322255501 &  3.22255501\\\\\n",
       "\t 561 &  1002 & 0.0288561226 &  2.88561226\\\\\n",
       "\t 558 &   948 & 0.0273010022 &  2.73010022\\\\\n",
       "\t 537 &   946 & 0.0272434051 &  2.72434051\\\\\n",
       "\t 564 &   602 & 0.0173367124 &  1.73367124\\\\\n",
       "\t 556 &   600 & 0.0172791153 &  1.72791153\\\\\n",
       "\t 550 &   574 & 0.0165303536 &  1.65303536\\\\\n",
       "\t 560 &   537 & 0.0154648082 &  1.54648082\\\\\n",
       "\t 562 &   536 & 0.0154360097 &  1.54360097\\\\\n",
       "\t 563 &   535 & 0.0154072112 &  1.54072112\\\\\n",
       "\t 538 &   122 & 0.0035134201 &  0.35134201\\\\\n",
       "\t 536 &    20 & 0.0005759705 &  0.05759705\\\\\n",
       "\t 0   &    19 & 0.0005471720 &  0.05471720\\\\\n",
       "\\end{tabular}\n"
      ],
      "text/markdown": [
       "\n",
       "A resource_metric: 16 × 4\n",
       "\n",
       "| resource &lt;fct&gt; | absolute &lt;int&gt; | relative &lt;dbl&gt; | percentage &lt;dbl&gt; |\n",
       "|---|---|---|---|\n",
       "| NA  | 24705 | 0.7114675729 | 71.14675729 |\n",
       "| 559 |  1278 | 0.0368045156 |  3.68045156 |\n",
       "| 557 |  1181 | 0.0340110586 |  3.40110586 |\n",
       "| 541 |  1119 | 0.0322255501 |  3.22255501 |\n",
       "| 561 |  1002 | 0.0288561226 |  2.88561226 |\n",
       "| 558 |   948 | 0.0273010022 |  2.73010022 |\n",
       "| 537 |   946 | 0.0272434051 |  2.72434051 |\n",
       "| 564 |   602 | 0.0173367124 |  1.73367124 |\n",
       "| 556 |   600 | 0.0172791153 |  1.72791153 |\n",
       "| 550 |   574 | 0.0165303536 |  1.65303536 |\n",
       "| 560 |   537 | 0.0154648082 |  1.54648082 |\n",
       "| 562 |   536 | 0.0154360097 |  1.54360097 |\n",
       "| 563 |   535 | 0.0154072112 |  1.54072112 |\n",
       "| 538 |   122 | 0.0035134201 |  0.35134201 |\n",
       "| 536 |    20 | 0.0005759705 |  0.05759705 |\n",
       "| 0   |    19 | 0.0005471720 |  0.05471720 |\n",
       "\n"
      ],
      "text/plain": [
       "   resource absolute relative     percentage \n",
       "1  NA       24705    0.7114675729 71.14675729\n",
       "2  559       1278    0.0368045156  3.68045156\n",
       "3  557       1181    0.0340110586  3.40110586\n",
       "4  541       1119    0.0322255501  3.22255501\n",
       "5  561       1002    0.0288561226  2.88561226\n",
       "6  558        948    0.0273010022  2.73010022\n",
       "7  537        946    0.0272434051  2.72434051\n",
       "8  564        602    0.0173367124  1.73367124\n",
       "9  556        600    0.0172791153  1.72791153\n",
       "10 550        574    0.0165303536  1.65303536\n",
       "11 560        537    0.0154648082  1.54648082\n",
       "12 562        536    0.0154360097  1.54360097\n",
       "13 563        535    0.0154072112  1.54072112\n",
       "14 538        122    0.0035134201  0.35134201\n",
       "15 536         20    0.0005759705  0.05759705\n",
       "16 0           19    0.0005471720  0.05471720"
      ]
     },
     "metadata": {},
     "output_type": "display_data"
    }
   ],
   "source": [
    "# Personas que participan en el proceso en %\n",
    "resource_frequency(traffic_fines, level = \"resource\") %>%\n",
    "  mutate(percentage = absolute / sum(absolute) * 100)\n"
   ]
  },
  {
   "cell_type": "code",
   "execution_count": 114,
   "id": "7dd48231",
   "metadata": {
    "vscode": {
     "languageId": "r"
    }
   },
   "outputs": [
    {
     "data": {
      "text/html": [
       "<style>\n",
       ".list-inline {list-style: none; margin:0; padding: 0}\n",
       ".list-inline>li {display: inline-block}\n",
       ".list-inline>li:not(:last-child)::after {content: \"\\00b7\"; padding: 0 .5ex}\n",
       "</style>\n",
       "<ol class=list-inline><li>561</li><li>&lt;NA&gt;</li><li>537</li><li>550</li><li>541</li><li>557</li><li>558</li><li>559</li><li>0</li><li>536</li><li>560</li><li>562</li><li>563</li><li>564</li><li>556</li><li>538</li></ol>\n",
       "\n",
       "<details>\n",
       "\t<summary style=display:list-item;cursor:pointer>\n",
       "\t\t<strong>Levels</strong>:\n",
       "\t</summary>\n",
       "\t<style>\n",
       "\t.list-inline {list-style: none; margin:0; padding: 0}\n",
       "\t.list-inline>li {display: inline-block}\n",
       "\t.list-inline>li:not(:last-child)::after {content: \"\\00b7\"; padding: 0 .5ex}\n",
       "\t</style>\n",
       "\t<ol class=list-inline><li>'0'</li><li>'3'</li><li>'4'</li><li>'8'</li><li>'9'</li><li>'10'</li><li>'11'</li><li>'12'</li><li>'13'</li><li>'14'</li><li>'15'</li><li>'16'</li><li>'17'</li><li>'18'</li><li>'19'</li><li>'20'</li><li>'21'</li><li>'22'</li><li>'23'</li><li>'24'</li><li>'25'</li><li>'26'</li><li>'27'</li><li>'28'</li><li>'29'</li><li>'30'</li><li>'31'</li><li>'32'</li><li>'33'</li><li>'34'</li><li>'35'</li><li>'36'</li><li>'37'</li><li>'38'</li><li>'39'</li><li>'40'</li><li>'41'</li><li>'42'</li><li>'43'</li><li>'44'</li><li>'45'</li><li>'46'</li><li>'47'</li><li>'48'</li><li>'49'</li><li>'50'</li><li>'51'</li><li>'52'</li><li>'53'</li><li>'54'</li><li>'55'</li><li>'56'</li><li>'57'</li><li>'58'</li><li>'59'</li><li>'60'</li><li>'61'</li><li>'62'</li><li>'63'</li><li>'64'</li><li>'65'</li><li>'66'</li><li>'536'</li><li>'537'</li><li>'538'</li><li>'540'</li><li>'541'</li><li>'546'</li><li>'548'</li><li>'550'</li><li>'551'</li><li>'552'</li><li>'553'</li><li>'554'</li><li>'555'</li><li>'556'</li><li>'557'</li><li>'558'</li><li>'559'</li><li>'560'</li><li>'561'</li><li>'562'</li><li>'563'</li><li>'564'</li><li>'565'</li><li>'566'</li><li>'567'</li><li>'568'</li><li>'704'</li><li>'802'</li><li>'807'</li><li>'808'</li><li>'810'</li><li>'811'</li><li>'813'</li><li>'816'</li><li>'817'</li><li>'818'</li><li>'819'</li><li>'820'</li><li>'821'</li><li>'823'</li><li>'824'</li><li>'825'</li><li>'826'</li><li>'827'</li><li>'828'</li><li>'829'</li><li>'830'</li><li>'831'</li><li>'832'</li><li>'833'</li><li>'834'</li><li>'835'</li><li>'836'</li><li>'837'</li><li>'838'</li><li>'839'</li><li>'840'</li><li>'841'</li><li>'842'</li><li>'843'</li><li>'844'</li><li>'845'</li><li>'846'</li><li>'847'</li><li>'848'</li><li>'849'</li><li>'850'</li><li>'851'</li><li>'852'</li><li>'853'</li><li>'854'</li><li>'855'</li><li>'856'</li><li>'857'</li><li>'858'</li><li>'859'</li><li>'860'</li><li>'861'</li><li>'862'</li><li>'864'</li><li>'865'</li><li>'866'</li><li>'867'</li><li>'868'</li><li>'869'</li><li>'870'</li></ol>\n",
       "</details>"
      ],
      "text/latex": [
       "\\begin{enumerate*}\n",
       "\\item 561\n",
       "\\item <NA>\n",
       "\\item 537\n",
       "\\item 550\n",
       "\\item 541\n",
       "\\item 557\n",
       "\\item 558\n",
       "\\item 559\n",
       "\\item 0\n",
       "\\item 536\n",
       "\\item 560\n",
       "\\item 562\n",
       "\\item 563\n",
       "\\item 564\n",
       "\\item 556\n",
       "\\item 538\n",
       "\\end{enumerate*}\n",
       "\n",
       "\\emph{Levels}: \\begin{enumerate*}\n",
       "\\item '0'\n",
       "\\item '3'\n",
       "\\item '4'\n",
       "\\item '8'\n",
       "\\item '9'\n",
       "\\item '10'\n",
       "\\item '11'\n",
       "\\item '12'\n",
       "\\item '13'\n",
       "\\item '14'\n",
       "\\item '15'\n",
       "\\item '16'\n",
       "\\item '17'\n",
       "\\item '18'\n",
       "\\item '19'\n",
       "\\item '20'\n",
       "\\item '21'\n",
       "\\item '22'\n",
       "\\item '23'\n",
       "\\item '24'\n",
       "\\item '25'\n",
       "\\item '26'\n",
       "\\item '27'\n",
       "\\item '28'\n",
       "\\item '29'\n",
       "\\item '30'\n",
       "\\item '31'\n",
       "\\item '32'\n",
       "\\item '33'\n",
       "\\item '34'\n",
       "\\item '35'\n",
       "\\item '36'\n",
       "\\item '37'\n",
       "\\item '38'\n",
       "\\item '39'\n",
       "\\item '40'\n",
       "\\item '41'\n",
       "\\item '42'\n",
       "\\item '43'\n",
       "\\item '44'\n",
       "\\item '45'\n",
       "\\item '46'\n",
       "\\item '47'\n",
       "\\item '48'\n",
       "\\item '49'\n",
       "\\item '50'\n",
       "\\item '51'\n",
       "\\item '52'\n",
       "\\item '53'\n",
       "\\item '54'\n",
       "\\item '55'\n",
       "\\item '56'\n",
       "\\item '57'\n",
       "\\item '58'\n",
       "\\item '59'\n",
       "\\item '60'\n",
       "\\item '61'\n",
       "\\item '62'\n",
       "\\item '63'\n",
       "\\item '64'\n",
       "\\item '65'\n",
       "\\item '66'\n",
       "\\item '536'\n",
       "\\item '537'\n",
       "\\item '538'\n",
       "\\item '540'\n",
       "\\item '541'\n",
       "\\item '546'\n",
       "\\item '548'\n",
       "\\item '550'\n",
       "\\item '551'\n",
       "\\item '552'\n",
       "\\item '553'\n",
       "\\item '554'\n",
       "\\item '555'\n",
       "\\item '556'\n",
       "\\item '557'\n",
       "\\item '558'\n",
       "\\item '559'\n",
       "\\item '560'\n",
       "\\item '561'\n",
       "\\item '562'\n",
       "\\item '563'\n",
       "\\item '564'\n",
       "\\item '565'\n",
       "\\item '566'\n",
       "\\item '567'\n",
       "\\item '568'\n",
       "\\item '704'\n",
       "\\item '802'\n",
       "\\item '807'\n",
       "\\item '808'\n",
       "\\item '810'\n",
       "\\item '811'\n",
       "\\item '813'\n",
       "\\item '816'\n",
       "\\item '817'\n",
       "\\item '818'\n",
       "\\item '819'\n",
       "\\item '820'\n",
       "\\item '821'\n",
       "\\item '823'\n",
       "\\item '824'\n",
       "\\item '825'\n",
       "\\item '826'\n",
       "\\item '827'\n",
       "\\item '828'\n",
       "\\item '829'\n",
       "\\item '830'\n",
       "\\item '831'\n",
       "\\item '832'\n",
       "\\item '833'\n",
       "\\item '834'\n",
       "\\item '835'\n",
       "\\item '836'\n",
       "\\item '837'\n",
       "\\item '838'\n",
       "\\item '839'\n",
       "\\item '840'\n",
       "\\item '841'\n",
       "\\item '842'\n",
       "\\item '843'\n",
       "\\item '844'\n",
       "\\item '845'\n",
       "\\item '846'\n",
       "\\item '847'\n",
       "\\item '848'\n",
       "\\item '849'\n",
       "\\item '850'\n",
       "\\item '851'\n",
       "\\item '852'\n",
       "\\item '853'\n",
       "\\item '854'\n",
       "\\item '855'\n",
       "\\item '856'\n",
       "\\item '857'\n",
       "\\item '858'\n",
       "\\item '859'\n",
       "\\item '860'\n",
       "\\item '861'\n",
       "\\item '862'\n",
       "\\item '864'\n",
       "\\item '865'\n",
       "\\item '866'\n",
       "\\item '867'\n",
       "\\item '868'\n",
       "\\item '869'\n",
       "\\item '870'\n",
       "\\end{enumerate*}\n"
      ],
      "text/markdown": [
       "1. 561\n",
       "2. &lt;NA&gt;\n",
       "3. 537\n",
       "4. 550\n",
       "5. 541\n",
       "6. 557\n",
       "7. 558\n",
       "8. 559\n",
       "9. 0\n",
       "10. 536\n",
       "11. 560\n",
       "12. 562\n",
       "13. 563\n",
       "14. 564\n",
       "15. 556\n",
       "16. 538\n",
       "\n",
       "\n",
       "\n",
       "**Levels**: 1. '0'\n",
       "2. '3'\n",
       "3. '4'\n",
       "4. '8'\n",
       "5. '9'\n",
       "6. '10'\n",
       "7. '11'\n",
       "8. '12'\n",
       "9. '13'\n",
       "10. '14'\n",
       "11. '15'\n",
       "12. '16'\n",
       "13. '17'\n",
       "14. '18'\n",
       "15. '19'\n",
       "16. '20'\n",
       "17. '21'\n",
       "18. '22'\n",
       "19. '23'\n",
       "20. '24'\n",
       "21. '25'\n",
       "22. '26'\n",
       "23. '27'\n",
       "24. '28'\n",
       "25. '29'\n",
       "26. '30'\n",
       "27. '31'\n",
       "28. '32'\n",
       "29. '33'\n",
       "30. '34'\n",
       "31. '35'\n",
       "32. '36'\n",
       "33. '37'\n",
       "34. '38'\n",
       "35. '39'\n",
       "36. '40'\n",
       "37. '41'\n",
       "38. '42'\n",
       "39. '43'\n",
       "40. '44'\n",
       "41. '45'\n",
       "42. '46'\n",
       "43. '47'\n",
       "44. '48'\n",
       "45. '49'\n",
       "46. '50'\n",
       "47. '51'\n",
       "48. '52'\n",
       "49. '53'\n",
       "50. '54'\n",
       "51. '55'\n",
       "52. '56'\n",
       "53. '57'\n",
       "54. '58'\n",
       "55. '59'\n",
       "56. '60'\n",
       "57. '61'\n",
       "58. '62'\n",
       "59. '63'\n",
       "60. '64'\n",
       "61. '65'\n",
       "62. '66'\n",
       "63. '536'\n",
       "64. '537'\n",
       "65. '538'\n",
       "66. '540'\n",
       "67. '541'\n",
       "68. '546'\n",
       "69. '548'\n",
       "70. '550'\n",
       "71. '551'\n",
       "72. '552'\n",
       "73. '553'\n",
       "74. '554'\n",
       "75. '555'\n",
       "76. '556'\n",
       "77. '557'\n",
       "78. '558'\n",
       "79. '559'\n",
       "80. '560'\n",
       "81. '561'\n",
       "82. '562'\n",
       "83. '563'\n",
       "84. '564'\n",
       "85. '565'\n",
       "86. '566'\n",
       "87. '567'\n",
       "88. '568'\n",
       "89. '704'\n",
       "90. '802'\n",
       "91. '807'\n",
       "92. '808'\n",
       "93. '810'\n",
       "94. '811'\n",
       "95. '813'\n",
       "96. '816'\n",
       "97. '817'\n",
       "98. '818'\n",
       "99. '819'\n",
       "100. '820'\n",
       "101. '821'\n",
       "102. '823'\n",
       "103. '824'\n",
       "104. '825'\n",
       "105. '826'\n",
       "106. '827'\n",
       "107. '828'\n",
       "108. '829'\n",
       "109. '830'\n",
       "110. '831'\n",
       "111. '832'\n",
       "112. '833'\n",
       "113. '834'\n",
       "114. '835'\n",
       "115. '836'\n",
       "116. '837'\n",
       "117. '838'\n",
       "118. '839'\n",
       "119. '840'\n",
       "120. '841'\n",
       "121. '842'\n",
       "122. '843'\n",
       "123. '844'\n",
       "124. '845'\n",
       "125. '846'\n",
       "126. '847'\n",
       "127. '848'\n",
       "128. '849'\n",
       "129. '850'\n",
       "130. '851'\n",
       "131. '852'\n",
       "132. '853'\n",
       "133. '854'\n",
       "134. '855'\n",
       "135. '856'\n",
       "136. '857'\n",
       "137. '858'\n",
       "138. '859'\n",
       "139. '860'\n",
       "140. '861'\n",
       "141. '862'\n",
       "142. '864'\n",
       "143. '865'\n",
       "144. '866'\n",
       "145. '867'\n",
       "146. '868'\n",
       "147. '869'\n",
       "148. '870'\n",
       "\n",
       "\n"
      ],
      "text/plain": [
       " [1] 561  <NA> 537  550  541  557  558  559  0    536  560  562  563  564  556 \n",
       "[16] 538 \n",
       "148 Levels: 0 3 4 8 9 10 11 12 13 14 15 16 17 18 19 20 21 22 23 24 25 26 ... 870"
      ]
     },
     "metadata": {},
     "output_type": "display_data"
    }
   ],
   "source": [
    "# Una lista de las personas que participan en el proceso (Las mismas mostradas anteriormente en la tabla)\n",
    "traffic_fines %>% resource_labels()"
   ]
  },
  {
   "cell_type": "markdown",
   "id": "a8ac1a4c",
   "metadata": {},
   "source": [
    "### Descripción General "
   ]
  },
  {
   "cell_type": "markdown",
   "id": "e19f7c6c",
   "metadata": {},
   "source": [
    "| Información | Cantidad | \n",
    "| :--| :-- |\n",
    "| Número de casos |  10000 casos |\n",
    "| Número de actividades únicas | 11 actividades |\n",
    "| Ventana de tiempo | [2006-06-17, 2012-03-26] |\n",
    "| Duración de los casos | En promedio 296.1351 días |\n",
    "| Cantidad de variantes | 44 variantes (traces) |\n",
    "| Distribución de variantes |  |\n",
    "| Personas / Roles que participan | 561 / NA (persona no registrada) / 537 / 550 / 541 / 557 / 558 / 559 / 0 / 536 / 560 / 562 / 563 / 564 / 556 / 538 | \n",
    "| Con qué información se cuenta | Los procesos empiezan con **Create fine**, y terminan con: **Payment**, **Send for Credit Colletion** y **Send fine** |\n",
    "| Con qué información no se cuenta | No tenemos datos del vehículo, podría ser relevante para analizar las infracciones según el tipo de vehículo. No tenemos detalles de la infracción, algunas pueden ser mas graves que otras y puede reflejarse en el valor de la multa."
   ]
  },
  {
   "cell_type": "markdown",
   "id": "a080bf43",
   "metadata": {},
   "source": [
    "## 2. Análisis del diagrama del proceso\n"
   ]
  },
  {
   "cell_type": "markdown",
   "id": "005d1b3e",
   "metadata": {},
   "source": [
    "## 3. Análisis del log mediante preguntas\n"
   ]
  },
  {
   "cell_type": "markdown",
   "id": "a93bc9fa",
   "metadata": {},
   "source": [
    "## 4. Propuesta de mejoras al proceso\n"
   ]
  },
  {
   "cell_type": "markdown",
   "id": "7f205167",
   "metadata": {},
   "source": [
    "## Conclusión\n",
    "\n",
    "Resumen de lo aprendido, limitaciones y posibles mejoras futuras del análisis.\n"
   ]
  }
 ],
 "metadata": {
  "kernelspec": {
   "display_name": "R",
   "language": "R",
   "name": "ir"
  },
  "language_info": {
   "codemirror_mode": "r",
   "file_extension": ".r",
   "mimetype": "text/x-r-source",
   "name": "R",
   "pygments_lexer": "r",
   "version": "4.3.3"
  }
 },
 "nbformat": 4,
 "nbformat_minor": 5
}
