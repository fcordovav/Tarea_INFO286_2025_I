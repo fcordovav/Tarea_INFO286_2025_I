{
 "cells": [
  {
   "cell_type": "markdown",
   "id": "03f675fb",
   "metadata": {},
   "source": [
    "# Tarea INFO286: Minería de Procesos\n",
    "\n",
    "Integrantes: Felipe Córdova y Javier Reyes  \n",
    "Profesor: Juan Salazar  \n",
    "Fecha: 09/05/2025  \n"
   ]
  },
  {
   "cell_type": "markdown",
   "id": "7cdc5a35",
   "metadata": {},
   "source": [
    "## Resumen\n",
    "\n",
    "En este trabajo se analiza el log de eventos `traffic_fines`, el cual representa el proceso de gestión de multas de tránsito en Italia. Se utilizaron herramientas del ecosistema `bupaR` en R para explorar el log, visualizar el proceso, responder preguntas específicas y proponer mejoras. Se identificaron cuellos de botella, variantes comunes y actividades críticas. Entre los principales hallazgos destacan demoras considerables en ciertas etapas y la existencia de múltiples variantes del proceso. Se proponen dos mejoras orientadas a reducir tiempos muertos y simplificar el flujo de actividades.\n"
   ]
  },
  {
   "cell_type": "markdown",
   "id": "1b2dccb3",
   "metadata": {},
   "source": [
    "### Instalación y carga de paquetes"
   ]
  },
  {
   "cell_type": "code",
   "execution_count": 1,
   "id": "9669b2df",
   "metadata": {
    "vscode": {
     "languageId": "r"
    }
   },
   "outputs": [
    {
     "name": "stderr",
     "output_type": "stream",
     "text": [
      "\n",
      "Attaching package: 'bupaR'\n",
      "\n",
      "\n",
      "The following object is masked from 'package:stats':\n",
      "\n",
      "    filter\n",
      "\n",
      "\n",
      "The following object is masked from 'package:utils':\n",
      "\n",
      "    timestamp\n",
      "\n",
      "\n"
     ]
    }
   ],
   "source": [
    "# Instalar los paquetes solo la primera vez:\n",
    "# install.packages(\"bupaR\")\n",
    "# install.packages(\"eventdataR\")  # contiene el log traffic_fines\n",
    "# install.packages(\"edeaR\")       # análisis exploratorio\n",
    "# install.packages(\"processmapR\") # mapas de proceso\n",
    "# install.packages(\"processmonitR\") # monitoreo\n",
    "# install.packages(\"DiagrammeR\")\n",
    "\n",
    "# Cargar los paquetes:\n",
    "library(bupaR)\n",
    "library(eventdataR)\n",
    "library(edeaR)\n",
    "library(processmapR)\n",
    "library(processmonitR)\n",
    "library(ggplot2)\n",
    "library(DiagrammeR)"
   ]
  },
  {
   "cell_type": "markdown",
   "id": "368b36d9",
   "metadata": {},
   "source": [
    "### Cargar el log *traffic_fines*"
   ]
  },
  {
   "cell_type": "code",
   "execution_count": 2,
   "id": "5432c181",
   "metadata": {
    "vscode": {
     "languageId": "r"
    }
   },
   "outputs": [],
   "source": [
    "data(\"traffic_fines\")"
   ]
  },
  {
   "cell_type": "markdown",
   "id": "d2ca17fc",
   "metadata": {},
   "source": [
    "## 1. Descripción general del log\n",
    "\n",
    "En esta sección se realiza una revisión exploratoria de los datos del proceso, identificando aspectos clave como la cantidad de casos, el número de actividades distintas, las ventanas de tiempo involucradas, la duración de los casos, la cantidad y distribución de variantes, así como los participantes que intervienen en el proceso.\n",
    "\n",
    "Dado que el log ya ha sido cargado, procedemos a presentar un resumen general de los datos."
   ]
  },
  {
   "cell_type": "code",
   "execution_count": 3,
   "id": "abbf7c69",
   "metadata": {
    "vscode": {
     "languageId": "r"
    }
   },
   "outputs": [
    {
     "name": "stdout",
     "output_type": "stream",
     "text": [
      "Number of events:  34724\n",
      "Number of cases:  10000\n",
      "Number of traces:  44\n",
      "Number of distinct activities:  11\n",
      "Average trace length:  3.4724\n",
      "\n",
      "Start eventlog:  2006-06-17\n",
      "End eventlog:  2012-03-26\n",
      "\n"
     ]
    },
    {
     "data": {
      "text/plain": [
       "   case_id                                activity        lifecycle    \n",
       " Length:34724       Create Fine               :10000   complete:34724  \n",
       " Class :character   Send Fine                 : 6570                   \n",
       " Mode  :character   Payment                   : 4910                   \n",
       "                    Add penalty               : 4635                   \n",
       "                    Insert Fine Notification  : 4635                   \n",
       "                    Send for Credit Collection: 3387                   \n",
       "                    (Other)                   :  587                   \n",
       "    resource       timestamp                      amount         \n",
       " 559    : 1278   Min.   :2006-06-17 00:00:00   Length:34724      \n",
       " 557    : 1181   1st Qu.:2007-07-19 00:00:00   Class :character  \n",
       " 541    : 1119   Median :2007-10-29 00:00:00   Mode  :character  \n",
       " 561    : 1002   Mean   :2007-12-06 15:34:51                     \n",
       " 558    :  948   3rd Qu.:2008-02-29 00:00:00                     \n",
       " (Other): 4491   Max.   :2012-03-26 00:00:00                     \n",
       " NA's   :24705                                                   \n",
       "    article       dismissal           expense            lastsent        \n",
       " Min.   :  7.0   Length:34724       Length:34724       Length:34724      \n",
       " 1st Qu.:157.0   Class :character   Class :character   Class :character  \n",
       " Median :157.0   Mode  :character   Mode  :character   Mode  :character  \n",
       " Mean   :131.8                                                           \n",
       " 3rd Qu.:157.0                                                           \n",
       " Max.   :158.0                                                           \n",
       " NA's   :24724                                                           \n",
       "   matricola     notificationtype   paymentamount        points     \n",
       " Min.   :0       Length:34724       Min.   :  60.0   Min.   :0.000  \n",
       " 1st Qu.:0       Class :character   1st Qu.: 360.0   1st Qu.:0.000  \n",
       " Median :0       Mode  :character   Median : 360.0   Median :0.000  \n",
       " Mean   :0                          Mean   : 451.6   Mean   :0.003  \n",
       " 3rd Qu.:0                          3rd Qu.: 380.0   3rd Qu.:0.000  \n",
       " Max.   :0                          Max.   :4926.0   Max.   :2.000  \n",
       " NA's   :34705                      NA's   :29814    NA's   :24724  \n",
       " totalpaymentamount vehicleclass       activity_instance_id     .order     \n",
       " Length:34724       Length:34724       Length:34724         Min.   :    1  \n",
       " Class :character   Class :character   Class :character     1st Qu.: 8682  \n",
       " Mode  :character   Mode  :character   Mode  :character     Median :17363  \n",
       "                                                            Mean   :17363  \n",
       "                                                            3rd Qu.:26043  \n",
       "                                                            Max.   :34724  \n",
       "                                                                           "
      ]
     },
     "metadata": {},
     "output_type": "display_data"
    }
   ],
   "source": [
    "# Resumen general del log\n",
    "summary(traffic_fines)"
   ]
  },
  {
   "cell_type": "markdown",
   "id": "d7e3d7a2",
   "metadata": {},
   "source": [
    "Algunos de los datos solicitados pueden observarse en el resumen general obtenido previamente mediante la función `summary(data)` en R. Sin embargo, a continuación se presentan algunos comandos específicos de la librería bupaR que permiten visualizar esta información de manera más clara y detallada."
   ]
  },
  {
   "cell_type": "code",
   "execution_count": 4,
   "id": "4a91c421",
   "metadata": {
    "vscode": {
     "languageId": "r"
    }
   },
   "outputs": [
    {
     "data": {
      "text/html": [
       "10000"
      ],
      "text/latex": [
       "10000"
      ],
      "text/markdown": [
       "10000"
      ],
      "text/plain": [
       "[1] 10000"
      ]
     },
     "metadata": {},
     "output_type": "display_data"
    }
   ],
   "source": [
    "# Número de casos\n",
    "n_cases(traffic_fines)"
   ]
  },
  {
   "cell_type": "code",
   "execution_count": 5,
   "id": "6ea702b3",
   "metadata": {
    "vscode": {
     "languageId": "r"
    }
   },
   "outputs": [
    {
     "data": {
      "text/html": [
       "11"
      ],
      "text/latex": [
       "11"
      ],
      "text/markdown": [
       "11"
      ],
      "text/plain": [
       "[1] 11"
      ]
     },
     "metadata": {},
     "output_type": "display_data"
    }
   ],
   "source": [
    "# Número de actividades distintas\n",
    "n_activities(traffic_fines)"
   ]
  },
  {
   "cell_type": "code",
   "execution_count": 6,
   "id": "1f70c821",
   "metadata": {
    "vscode": {
     "languageId": "r"
    }
   },
   "outputs": [
    {
     "data": {
      "text/html": [
       "<table class=\"dataframe\">\n",
       "<caption>A tibble: 11 × 3</caption>\n",
       "<thead>\n",
       "\t<tr><th scope=col>activity</th><th scope=col>absolute_frequency</th><th scope=col>relative_frequency</th></tr>\n",
       "\t<tr><th scope=col>&lt;fct&gt;</th><th scope=col>&lt;int&gt;</th><th scope=col>&lt;dbl&gt;</th></tr>\n",
       "</thead>\n",
       "<tbody>\n",
       "\t<tr><td>Create Fine                          </td><td>10000</td><td>0.287985255</td></tr>\n",
       "\t<tr><td>Send Fine                            </td><td> 6570</td><td>0.189206313</td></tr>\n",
       "\t<tr><td>Payment                              </td><td> 4910</td><td>0.141400760</td></tr>\n",
       "\t<tr><td>Add penalty                          </td><td> 4635</td><td>0.133481166</td></tr>\n",
       "\t<tr><td>Insert Fine Notification             </td><td> 4635</td><td>0.133481166</td></tr>\n",
       "\t<tr><td>Send for Credit Collection           </td><td> 3387</td><td>0.097540606</td></tr>\n",
       "\t<tr><td>Insert Date Appeal to Prefecture     </td><td>  232</td><td>0.006681258</td></tr>\n",
       "\t<tr><td>Send Appeal to Prefecture            </td><td>  227</td><td>0.006537265</td></tr>\n",
       "\t<tr><td>Receive Result Appeal from Prefecture</td><td>   55</td><td>0.001583919</td></tr>\n",
       "\t<tr><td>Notify Result Appeal to Offender     </td><td>   54</td><td>0.001555120</td></tr>\n",
       "\t<tr><td>Appeal to Judge                      </td><td>   19</td><td>0.000547172</td></tr>\n",
       "</tbody>\n",
       "</table>\n"
      ],
      "text/latex": [
       "A tibble: 11 × 3\n",
       "\\begin{tabular}{lll}\n",
       " activity & absolute\\_frequency & relative\\_frequency\\\\\n",
       " <fct> & <int> & <dbl>\\\\\n",
       "\\hline\n",
       "\t Create Fine                           & 10000 & 0.287985255\\\\\n",
       "\t Send Fine                             &  6570 & 0.189206313\\\\\n",
       "\t Payment                               &  4910 & 0.141400760\\\\\n",
       "\t Add penalty                           &  4635 & 0.133481166\\\\\n",
       "\t Insert Fine Notification              &  4635 & 0.133481166\\\\\n",
       "\t Send for Credit Collection            &  3387 & 0.097540606\\\\\n",
       "\t Insert Date Appeal to Prefecture      &   232 & 0.006681258\\\\\n",
       "\t Send Appeal to Prefecture             &   227 & 0.006537265\\\\\n",
       "\t Receive Result Appeal from Prefecture &    55 & 0.001583919\\\\\n",
       "\t Notify Result Appeal to Offender      &    54 & 0.001555120\\\\\n",
       "\t Appeal to Judge                       &    19 & 0.000547172\\\\\n",
       "\\end{tabular}\n"
      ],
      "text/markdown": [
       "\n",
       "A tibble: 11 × 3\n",
       "\n",
       "| activity &lt;fct&gt; | absolute_frequency &lt;int&gt; | relative_frequency &lt;dbl&gt; |\n",
       "|---|---|---|\n",
       "| Create Fine                           | 10000 | 0.287985255 |\n",
       "| Send Fine                             |  6570 | 0.189206313 |\n",
       "| Payment                               |  4910 | 0.141400760 |\n",
       "| Add penalty                           |  4635 | 0.133481166 |\n",
       "| Insert Fine Notification              |  4635 | 0.133481166 |\n",
       "| Send for Credit Collection            |  3387 | 0.097540606 |\n",
       "| Insert Date Appeal to Prefecture      |   232 | 0.006681258 |\n",
       "| Send Appeal to Prefecture             |   227 | 0.006537265 |\n",
       "| Receive Result Appeal from Prefecture |    55 | 0.001583919 |\n",
       "| Notify Result Appeal to Offender      |    54 | 0.001555120 |\n",
       "| Appeal to Judge                       |    19 | 0.000547172 |\n",
       "\n"
      ],
      "text/plain": [
       "   activity                              absolute_frequency relative_frequency\n",
       "1  Create Fine                           10000              0.287985255       \n",
       "2  Send Fine                              6570              0.189206313       \n",
       "3  Payment                                4910              0.141400760       \n",
       "4  Add penalty                            4635              0.133481166       \n",
       "5  Insert Fine Notification               4635              0.133481166       \n",
       "6  Send for Credit Collection             3387              0.097540606       \n",
       "7  Insert Date Appeal to Prefecture        232              0.006681258       \n",
       "8  Send Appeal to Prefecture               227              0.006537265       \n",
       "9  Receive Result Appeal from Prefecture    55              0.001583919       \n",
       "10 Notify Result Appeal to Offender         54              0.001555120       \n",
       "11 Appeal to Judge                          19              0.000547172       "
      ]
     },
     "metadata": {},
     "output_type": "display_data"
    }
   ],
   "source": [
    "# Ver el nombre de las 11 actividades\n",
    "activities(traffic_fines)"
   ]
  },
  {
   "cell_type": "code",
   "execution_count": 18,
   "id": "525880b8",
   "metadata": {
    "vscode": {
     "languageId": "r"
    }
   },
   "outputs": [
    {
     "ename": "ERROR",
     "evalue": "Error in parse(text = x, srcfile = src): <text>:5:0: unexpected end of input\n3: end_time <- max(traffic_fines$timestamp)\n4: print(years(end_time - start_time)\n  ^\n",
     "output_type": "error",
     "traceback": [
      "Error in parse(text = x, srcfile = src): <text>:5:0: unexpected end of input\n3: end_time <- max(traffic_fines$timestamp)\n4: print(years(end_time - start_time)\n  ^\nTraceback:\n"
     ]
    }
   ],
   "source": [
    "# Ventana de tiempo que abarca\n",
    "start_time <- min(traffic_fines$timestamp)\n",
    "end_time <- max(traffic_fines$timestamp)\n",
    "start_time\n",
    "end_time"
   ]
  },
  {
   "cell_type": "code",
   "execution_count": 8,
   "id": "e2bc0d04",
   "metadata": {
    "vscode": {
     "languageId": "r"
    }
   },
   "outputs": [
    {
     "data": {
      "text/html": [
       "<table class=\"dataframe\">\n",
       "<caption>A log_metric: 1 × 8</caption>\n",
       "<thead>\n",
       "\t<tr><th scope=col>min</th><th scope=col>q1</th><th scope=col>median</th><th scope=col>mean</th><th scope=col>q3</th><th scope=col>max</th><th scope=col>st_dev</th><th scope=col>iqr</th></tr>\n",
       "\t<tr><th scope=col>&lt;drtn&gt;</th><th scope=col>&lt;drtn&gt;</th><th scope=col>&lt;drtn&gt;</th><th scope=col>&lt;drtn&gt;</th><th scope=col>&lt;drtn&gt;</th><th scope=col>&lt;drtn&gt;</th><th scope=col>&lt;dbl&gt;</th><th scope=col>&lt;drtn&gt;</th></tr>\n",
       "</thead>\n",
       "<tbody>\n",
       "\t<tr><td>0 days</td><td>7 days</td><td>125 days</td><td>296.1351 days</td><td>596 days</td><td>1956 days</td><td>313.2794</td><td>589 days</td></tr>\n",
       "</tbody>\n",
       "</table>\n"
      ],
      "text/latex": [
       "A log\\_metric: 1 × 8\n",
       "\\begin{tabular}{llllllll}\n",
       " min & q1 & median & mean & q3 & max & st\\_dev & iqr\\\\\n",
       " <drtn> & <drtn> & <drtn> & <drtn> & <drtn> & <drtn> & <dbl> & <drtn>\\\\\n",
       "\\hline\n",
       "\t 0 days & 7 days & 125 days & 296.1351 days & 596 days & 1956 days & 313.2794 & 589 days\\\\\n",
       "\\end{tabular}\n"
      ],
      "text/markdown": [
       "\n",
       "A log_metric: 1 × 8\n",
       "\n",
       "| min &lt;drtn&gt; | q1 &lt;drtn&gt; | median &lt;drtn&gt; | mean &lt;drtn&gt; | q3 &lt;drtn&gt; | max &lt;drtn&gt; | st_dev &lt;dbl&gt; | iqr &lt;drtn&gt; |\n",
       "|---|---|---|---|---|---|---|---|\n",
       "| 0 days | 7 days | 125 days | 296.1351 days | 596 days | 1956 days | 313.2794 | 589 days |\n",
       "\n"
      ],
      "text/plain": [
       "  min    q1     median   mean          q3       max       st_dev   iqr     \n",
       "1 0 days 7 days 125 days 296.1351 days 596 days 1956 days 313.2794 589 days"
      ]
     },
     "metadata": {},
     "output_type": "display_data"
    }
   ],
   "source": [
    "# Duración de los casos (tiempo total de ejecución de los casos)\n",
    "throughput_time(traffic_fines, units=\"days\")\n",
    "\n",
    "# Duración de los casos (tiempo de cada caso individual)\n",
    "# throughput_time(traffic_fines, units = \"days\", level = \"case\")"
   ]
  },
  {
   "cell_type": "code",
   "execution_count": 9,
   "id": "cc131114",
   "metadata": {
    "vscode": {
     "languageId": "r"
    }
   },
   "outputs": [
    {
     "data": {
      "image/png": "[encoded data removed]",
      "text/plain": [
       "plot without title"
      ]
     },
     "metadata": {
      "image/png": {
       "height": 420,
       "width": 420
      }
     },
     "output_type": "display_data"
    }
   ],
   "source": [
    "# Distribución de variantes al 90% de los casos\n",
    "trace_explorer(traffic_fines, coverage = 0.9)\n"
   ]
  },
  {
   "cell_type": "code",
   "execution_count": 10,
   "id": "a2b75b6a",
   "metadata": {
    "vscode": {
     "languageId": "r"
    }
   },
   "outputs": [
    {
     "data": {
      "text/html": [
       "<table class=\"dataframe\">\n",
       "<caption>A resource_metric: 16 × 4</caption>\n",
       "<thead>\n",
       "\t<tr><th scope=col>resource</th><th scope=col>absolute</th><th scope=col>relative</th><th scope=col>percentage</th></tr>\n",
       "\t<tr><th scope=col>&lt;fct&gt;</th><th scope=col>&lt;int&gt;</th><th scope=col>&lt;dbl&gt;</th><th scope=col>&lt;dbl&gt;</th></tr>\n",
       "</thead>\n",
       "<tbody>\n",
       "\t<tr><td>NA </td><td>24705</td><td>0.7114675729</td><td>71.14675729</td></tr>\n",
       "\t<tr><td>559</td><td> 1278</td><td>0.0368045156</td><td> 3.68045156</td></tr>\n",
       "\t<tr><td>557</td><td> 1181</td><td>0.0340110586</td><td> 3.40110586</td></tr>\n",
       "\t<tr><td>541</td><td> 1119</td><td>0.0322255501</td><td> 3.22255501</td></tr>\n",
       "\t<tr><td>561</td><td> 1002</td><td>0.0288561226</td><td> 2.88561226</td></tr>\n",
       "\t<tr><td>558</td><td>  948</td><td>0.0273010022</td><td> 2.73010022</td></tr>\n",
       "\t<tr><td>537</td><td>  946</td><td>0.0272434051</td><td> 2.72434051</td></tr>\n",
       "\t<tr><td>564</td><td>  602</td><td>0.0173367124</td><td> 1.73367124</td></tr>\n",
       "\t<tr><td>556</td><td>  600</td><td>0.0172791153</td><td> 1.72791153</td></tr>\n",
       "\t<tr><td>550</td><td>  574</td><td>0.0165303536</td><td> 1.65303536</td></tr>\n",
       "\t<tr><td>560</td><td>  537</td><td>0.0154648082</td><td> 1.54648082</td></tr>\n",
       "\t<tr><td>562</td><td>  536</td><td>0.0154360097</td><td> 1.54360097</td></tr>\n",
       "\t<tr><td>563</td><td>  535</td><td>0.0154072112</td><td> 1.54072112</td></tr>\n",
       "\t<tr><td>538</td><td>  122</td><td>0.0035134201</td><td> 0.35134201</td></tr>\n",
       "\t<tr><td>536</td><td>   20</td><td>0.0005759705</td><td> 0.05759705</td></tr>\n",
       "\t<tr><td>0  </td><td>   19</td><td>0.0005471720</td><td> 0.05471720</td></tr>\n",
       "</tbody>\n",
       "</table>\n"
      ],
      "text/latex": [
       "A resource\\_metric: 16 × 4\n",
       "\\begin{tabular}{llll}\n",
       " resource & absolute & relative & percentage\\\\\n",
       " <fct> & <int> & <dbl> & <dbl>\\\\\n",
       "\\hline\n",
       "\t NA  & 24705 & 0.7114675729 & 71.14675729\\\\\n",
       "\t 559 &  1278 & 0.0368045156 &  3.68045156\\\\\n",
       "\t 557 &  1181 & 0.0340110586 &  3.40110586\\\\\n",
       "\t 541 &  1119 & 0.0322255501 &  3.22255501\\\\\n",
       "\t 561 &  1002 & 0.0288561226 &  2.88561226\\\\\n",
       "\t 558 &   948 & 0.0273010022 &  2.73010022\\\\\n",
       "\t 537 &   946 & 0.0272434051 &  2.72434051\\\\\n",
       "\t 564 &   602 & 0.0173367124 &  1.73367124\\\\\n",
       "\t 556 &   600 & 0.0172791153 &  1.72791153\\\\\n",
       "\t 550 &   574 & 0.0165303536 &  1.65303536\\\\\n",
       "\t 560 &   537 & 0.0154648082 &  1.54648082\\\\\n",
       "\t 562 &   536 & 0.0154360097 &  1.54360097\\\\\n",
       "\t 563 &   535 & 0.0154072112 &  1.54072112\\\\\n",
       "\t 538 &   122 & 0.0035134201 &  0.35134201\\\\\n",
       "\t 536 &    20 & 0.0005759705 &  0.05759705\\\\\n",
       "\t 0   &    19 & 0.0005471720 &  0.05471720\\\\\n",
       "\\end{tabular}\n"
      ],
      "text/markdown": [
       "\n",
       "A resource_metric: 16 × 4\n",
       "\n",
       "| resource &lt;fct&gt; | absolute &lt;int&gt; | relative &lt;dbl&gt; | percentage &lt;dbl&gt; |\n",
       "|---|---|---|---|\n",
       "| NA  | 24705 | 0.7114675729 | 71.14675729 |\n",
       "| 559 |  1278 | 0.0368045156 |  3.68045156 |\n",
       "| 557 |  1181 | 0.0340110586 |  3.40110586 |\n",
       "| 541 |  1119 | 0.0322255501 |  3.22255501 |\n",
       "| 561 |  1002 | 0.0288561226 |  2.88561226 |\n",
       "| 558 |   948 | 0.0273010022 |  2.73010022 |\n",
       "| 537 |   946 | 0.0272434051 |  2.72434051 |\n",
       "| 564 |   602 | 0.0173367124 |  1.73367124 |\n",
       "| 556 |   600 | 0.0172791153 |  1.72791153 |\n",
       "| 550 |   574 | 0.0165303536 |  1.65303536 |\n",
       "| 560 |   537 | 0.0154648082 |  1.54648082 |\n",
       "| 562 |   536 | 0.0154360097 |  1.54360097 |\n",
       "| 563 |   535 | 0.0154072112 |  1.54072112 |\n",
       "| 538 |   122 | 0.0035134201 |  0.35134201 |\n",
       "| 536 |    20 | 0.0005759705 |  0.05759705 |\n",
       "| 0   |    19 | 0.0005471720 |  0.05471720 |\n",
       "\n"
      ],
      "text/plain": [
       "   resource absolute relative     percentage \n",
       "1  NA       24705    0.7114675729 71.14675729\n",
       "2  559       1278    0.0368045156  3.68045156\n",
       "3  557       1181    0.0340110586  3.40110586\n",
       "4  541       1119    0.0322255501  3.22255501\n",
       "5  561       1002    0.0288561226  2.88561226\n",
       "6  558        948    0.0273010022  2.73010022\n",
       "7  537        946    0.0272434051  2.72434051\n",
       "8  564        602    0.0173367124  1.73367124\n",
       "9  556        600    0.0172791153  1.72791153\n",
       "10 550        574    0.0165303536  1.65303536\n",
       "11 560        537    0.0154648082  1.54648082\n",
       "12 562        536    0.0154360097  1.54360097\n",
       "13 563        535    0.0154072112  1.54072112\n",
       "14 538        122    0.0035134201  0.35134201\n",
       "15 536         20    0.0005759705  0.05759705\n",
       "16 0           19    0.0005471720  0.05471720"
      ]
     },
     "metadata": {},
     "output_type": "display_data"
    }
   ],
   "source": [
    "# Personas que participan en el proceso en %\n",
    "resource_frequency(traffic_fines, level = \"resource\") %>%\n",
    "  mutate(percentage = absolute / sum(absolute) * 100)\n"
   ]
  },
  {
   "cell_type": "markdown",
   "id": "a8ac1a4c",
   "metadata": {},
   "source": [
    "### Descripción General "
   ]
  },
  {
   "cell_type": "raw",
   "id": "722e6311",
   "metadata": {},
   "source": [
    "# | Información | Cantidad | \n",
    "| :--| :-- |\n",
    "| Número de casos |  10000 casos |\n",
    "| Número de actividades únicas | 11 actividades |\n",
    "| Ventana de tiempo | [2006-06-17, 2012-03-26] |\n",
    "| Duración de los casos | En promedio 296.1351 días |\n",
    "| Cantidad de variantes | 44 variantes (traces) |\n",
    "| Distribución de variantes | A pesar de que el log contiene 44 variantes distintas, solo 4 de ellas concentran prácticamente el 93.49% de los casos. La variante más frecuente representa por sí sola el 34.28% de los casos, seguida de tres variantes con 32.73%, 18.9% y 7.58%, respectivamente. Esto indica que, aunque hay una diversidad considerable de secuencias, la mayoría de los casos sigue un conjunto muy limitado de rutas de proceso. |\n",
    "| Personas / Roles que participan | Se identifican los siguientes id: 561 / 537 / 550 / 541 / 557 / 558 / 559 / 0 / 536 / 560 / 562 / 563 / 564 / 556 / 538. Pero, 24705 eventos o actividades no tienen una persona específicamente asignada (persona no registrada NA)| \n",
    "| Con qué información se cuenta | Los procesos empiezan con **Create Fine** y terminan con: **Payment**, **Send for Credit Collection** y **Send Fine**. Pueden ser finalizados por diferentes roles según el resultado: **Payment** implica resolución por parte del ciudadano, mientras que **Send for Credit Collection** y **Send Fine** corresponden a acciones administrativas posteriores por parte de la autoridad. |\n",
    "| Con qué información no se cuenta | No se cuenta con detalles sobre el tipo de infracción ni el monto de la multa, lo que limita el análisis según gravedad. Tampoco hay información sobre el vehículo ni el contexto del hecho, lo que impide evaluar patrones específicos o reincidencias. |"
   ]
  },
  {
   "cell_type": "raw",
   "id": "61334af4",
   "metadata": {},
   "source": [
    "## 2. Análisis de diagrama del proceso"
   ]
  },
  {
   "cell_type": "markdown",
   "id": "65e1ccde",
   "metadata": {},
   "source": [
    "Para crear el diagrama de procesos, debido a algunos inconvenientes técnicos, no fue posible visualizar el diagrama utilizando únicamente el comando `process_map()`. Aunque la ejecución era correcta, el resultado no se mostraba en la consola de Jupyter Notebook. Por lo tanto, se utilizó la librería `DiagrammeR` (cargada al inicio) junto con un widget HTML para poder visualizar el diagrama en el navegador. Una vez hecho esto, se procedió a tomar una captura de pantalla y guardar el diagrama bajo el nombre `diagrama_proceso.png` en la carpeta **imagenes**. Además, se creó un archivo `.gitignore` para evitar que se suban las carpetas generadas durante la creación del gráfico y del archivo HTML. Se deja comentado el código utilizado para evidencia."
   ]
  },
  {
   "cell_type": "code",
   "execution_count": 11,
   "id": "4e0126a2",
   "metadata": {
    "vscode": {
     "languageId": "r"
    }
   },
   "outputs": [],
   "source": [
    "# Diagrama de procesos clásico\n",
    "# graph <- process_map(traffic_fines)\n",
    "\n",
    "# Guardar como HTML\n",
    "# htmlwidgets::saveWidget(graph, \"proceso_traffic_fines.html\")"
   ]
  },
  {
   "cell_type": "markdown",
   "id": "79549da4",
   "metadata": {},
   "source": [
    "A continuación se presenta la imagen.  \n",
    "\n",
    "![Diagrama del proceso](./imagenes/diagrama_proceso.png)\n"
   ]
  },
  {
   "cell_type": "markdown",
   "id": "157d993e",
   "metadata": {},
   "source": [
    "Como se puede observar en la imagen, así como en el gráfico presentado en la Sección 1 sobre la distribución de variantes que abarcan el 90% del total de casos, las principales variantes del proceso corresponden a aquellas que presentan un color más intenso y flechas de mayor grosor. Tal como se explicó en clases, esto indica una mayor frecuencia de ocurrencia. A medida que disminuye la intensidad del color, también lo hace la frecuencia relativa de la variante.  \n",
    "\n",
    "Entre las variantes más representativas del proceso, se identifican las siguientes secuencias:\n",
    "\n",
    "1. **Start** → `Create Fine` → `Payment` → **END**  \n",
    "2. **Start** → `Create Fine` → `Send Fine` → `Insert Fine Notification` → `Add penalty` → `Send for Credit Collection` → **END**  \n",
    "3. **Start** → `Create Fine` → `Send Fine` → **END**  \n",
    "4. **Start** → `Create Fine` → `Send Fine` → `Insert Fine Notification` → `Add penalty` → `Payment` → **END**  \n",
    "\n",
    "Este diagrama se complementa adecuadamente con el análisis realizado mediante el comando activities(traffic_fines), presentado en la Sección 1, donde se identifican las once actividades que conforman el proceso. En dicho análisis también se observa la frecuencia absoluta de cada actividad, lo que permite comprender en mayor profundidad la estructura y dinámica del flujo de eventos.\n",
    "\n",
    "| Actividad | Frecuencia | \n",
    "| :--| :-- |\n",
    "| Create Fine |  10000 |\n",
    "| Send Fine | 6570 |\n",
    "| Payment | 4910 |\n",
    "| Add penalty | 4635 |\n",
    "| Insert Fine Notification | 4635 |\n",
    "| Send for Credict Collection | 3387 |\n",
    "| Insert Date Appeal to Prefecture | 232 |\n",
    "| Send Appeal to Prefecture | 227 |\n",
    "| Receive Result Appeal from Prefecture | 55 |\n",
    "| Notify Result Appeal to Offender | 54 |\n",
    "| Appeal to Judge | 19 |\n",
    "\n",
    "\n"
   ]
  },
  {
   "cell_type": "markdown",
   "id": "7da96601",
   "metadata": {},
   "source": [
    "Al igual que anteriormente, para visualizar el diagrama de demoras se utilizó DiagrammeR junto con visualización en HTML, debido a las limitaciones de Jupyter Notebook. La imagen fue capturada y guardada en la carpeta de **imagenes** como `diagrama_demoras.png`, y se deja el código utilizado como evidencia."
   ]
  },
  {
   "cell_type": "code",
   "execution_count": 12,
   "id": "723b3903",
   "metadata": {
    "vscode": {
     "languageId": "r"
    }
   },
   "outputs": [],
   "source": [
    "# Mapa con tiempo promedio entre actividades en dias\n",
    "# graph <- process_map(traffic_fines, performance(median, \"days\"))\n",
    "\n",
    "# Guardar como HTML\n",
    "# htmlwidgets::saveWidget(graph, \"proceso_traffic_fines_times.html\")"
   ]
  },
  {
   "cell_type": "markdown",
   "id": "20b17b5c",
   "metadata": {},
   "source": [
    "A continuación se presenta la imagen mencionada. En estas transiciones, destacadas en color amarillo, representan los mayores tiempos de espera entre actividades.\n",
    "\n",
    "\n",
    "![Diagrama de demoras](./imagenes/diagrama_demoras.png)\n",
    "\n",
    "\n",
    "Como se observa en la imagen, se identifican cinco demoras principales en el proceso, las cuales se resumen en el gráfico de barras elaborado en R, a continuación:"
   ]
  },
  {
   "cell_type": "code",
   "execution_count": 13,
   "id": "4602db20",
   "metadata": {
    "vscode": {
     "languageId": "r"
    }
   },
   "outputs": [
    {
     "name": "stderr",
     "output_type": "stream",
     "text": [
      "Your code contains a unicode char which cannot be displayed in your\n",
      "current locale and R will silently convert it to an escaped form when the\n",
      "R kernel executes this code. This can lead to subtle errors if you use\n",
      "such chars to do comparisons. For more information, please see\n",
      "https://github.com/IRkernel/repr/wiki/Problems-with-unicode-on-windows"
     ]
    },
    {
     "data": {
      "image/png": "[encoded data removed]",
      "text/plain": [
       "plot without title"
      ]
     },
     "metadata": {
      "image/png": {
       "height": 420,
       "width": 420
      }
     },
     "output_type": "display_data"
    }
   ],
   "source": [
    "# Crear un data frame con las demoras\n",
    "demoras <- data.frame(\n",
    "  transicion = c(\n",
    "    \"Notify Result Appeal to Offender → Send for Credit Collection\",\n",
    "    \"Receive Result Appeal from Prefecture → Send for Credit Collection\",\n",
    "    \"Add penalty → Send for Credit Collection\",\n",
    "    \"Send Appeal to Prefecture → Send for Credit Collection\",\n",
    "    \"Payment → Send for Credit Collection\"\n",
    "  ),\n",
    "  dias = c(775, 541, 474, 438, 422)\n",
    ")\n",
    "\n",
    "# Graficar con etiquetas y espacio adicional\n",
    "ggplot(demoras, aes(x = reorder(transicion, dias), y = dias)) +\n",
    "  geom_bar(stat = \"identity\", fill = \"#FDB813\") +\n",
    "  geom_text(aes(label = dias), hjust = -0.1, size = 4) +  # Etiquetas fuera de la barra\n",
    "  coord_flip() +\n",
    "  labs(title = \"Principales demoras\",\n",
    "       x = \"Transición\",\n",
    "       y = \"Duración (días)\") +\n",
    "  theme_minimal() +\n",
    "  scale_y_continuous(expand = expansion(mult = c(0, 0.16)))  # espacio extra a la derecha\n"
   ]
  },
  {
   "cell_type": "markdown",
   "id": "279af8d0",
   "metadata": {},
   "source": [
    "Estas demoras podrían reflejar ineficiencias en la comunicación y seguimiento entre etapas. La mayor demora es de 775 días (aproximadamente 2 años y 1 mes), lo cual representa un tiempo excesivo. Optimizar estas áreas podría reducir significativamente la duración total del proceso."
   ]
  },
  {
   "cell_type": "markdown",
   "id": "adfca392",
   "metadata": {},
   "source": [
    "En el primer diagrama de procesos presentado en esta sección, podemos ver que en el estado END, llegan 6 flechas, lo cual podemos decir que 6 variantes inician y terminan de manera correcta.\n",
    "\n",
    "Estas son:\n",
    "\n",
    "\n"
   ]
  },
  {
   "cell_type": "markdown",
   "id": "005d1b3e",
   "metadata": {},
   "source": [
    "## 3. Análisis del log mediante preguntas\n"
   ]
  },
  {
   "cell_type": "markdown",
   "id": "a93bc9fa",
   "metadata": {},
   "source": [
    "## 4. Propuesta de mejoras al proceso\n"
   ]
  },
  {
   "cell_type": "markdown",
   "id": "7f205167",
   "metadata": {},
   "source": [
    "## Conclusión\n",
    "\n",
    "Resumen de lo aprendido, limitaciones y posibles mejoras futuras del análisis.\n"
   ]
  }
 ],
 "metadata": {
  "kernelspec": {
   "display_name": "R",
   "language": "R",
   "name": "ir"
  },
  "language_info": {
   "codemirror_mode": "r",
   "file_extension": ".r",
   "mimetype": "text/x-r-source",
   "name": "R",
   "pygments_lexer": "r",
   "version": "4.1.3"
  }
 },
 "nbformat": 4,
 "nbformat_minor": 5
}
